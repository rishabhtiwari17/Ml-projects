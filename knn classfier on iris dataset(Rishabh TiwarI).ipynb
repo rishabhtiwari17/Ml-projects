{
 "cells": [
  {
   "cell_type": "code",
   "execution_count": 49,
   "id": "afe590f1",
   "metadata": {},
   "outputs": [],
   "source": [
    "import pandas as pd\n"
   ]
  },
  {
   "cell_type": "code",
   "execution_count": 50,
   "id": "7ff32e58",
   "metadata": {},
   "outputs": [],
   "source": [
    "import numpy as np"
   ]
  },
  {
   "cell_type": "code",
   "execution_count": 51,
   "id": "59ccfae4",
   "metadata": {},
   "outputs": [],
   "source": [
    "import matplotlib.pyplot as plt\n"
   ]
  },
  {
   "cell_type": "code",
   "execution_count": 52,
   "id": "49b57f45",
   "metadata": {},
   "outputs": [],
   "source": [
    "import seaborn as sns"
   ]
  },
  {
   "cell_type": "code",
   "execution_count": 53,
   "id": "4b924df6",
   "metadata": {},
   "outputs": [],
   "source": [
    "iris=pd.read_csv(r'https://raw.githubusercontent.com/YBI-Foundation/Dataset/main/IRIS.csv')"
   ]
  },
  {
   "cell_type": "code",
   "execution_count": 54,
   "id": "ab5fc6f6",
   "metadata": {},
   "outputs": [
    {
     "data": {
      "text/html": [
       "<div>\n",
       "<style scoped>\n",
       "    .dataframe tbody tr th:only-of-type {\n",
       "        vertical-align: middle;\n",
       "    }\n",
       "\n",
       "    .dataframe tbody tr th {\n",
       "        vertical-align: top;\n",
       "    }\n",
       "\n",
       "    .dataframe thead th {\n",
       "        text-align: right;\n",
       "    }\n",
       "</style>\n",
       "<table border=\"1\" class=\"dataframe\">\n",
       "  <thead>\n",
       "    <tr style=\"text-align: right;\">\n",
       "      <th></th>\n",
       "      <th>sepal_length</th>\n",
       "      <th>sepal_width</th>\n",
       "      <th>petal_length</th>\n",
       "      <th>petal_width</th>\n",
       "      <th>species</th>\n",
       "    </tr>\n",
       "  </thead>\n",
       "  <tbody>\n",
       "    <tr>\n",
       "      <th>0</th>\n",
       "      <td>5.1</td>\n",
       "      <td>3.5</td>\n",
       "      <td>1.4</td>\n",
       "      <td>0.2</td>\n",
       "      <td>Iris-setosa</td>\n",
       "    </tr>\n",
       "    <tr>\n",
       "      <th>1</th>\n",
       "      <td>4.9</td>\n",
       "      <td>3.0</td>\n",
       "      <td>1.4</td>\n",
       "      <td>0.2</td>\n",
       "      <td>Iris-setosa</td>\n",
       "    </tr>\n",
       "    <tr>\n",
       "      <th>2</th>\n",
       "      <td>4.7</td>\n",
       "      <td>3.2</td>\n",
       "      <td>1.3</td>\n",
       "      <td>0.2</td>\n",
       "      <td>Iris-setosa</td>\n",
       "    </tr>\n",
       "    <tr>\n",
       "      <th>3</th>\n",
       "      <td>4.6</td>\n",
       "      <td>3.1</td>\n",
       "      <td>1.5</td>\n",
       "      <td>0.2</td>\n",
       "      <td>Iris-setosa</td>\n",
       "    </tr>\n",
       "    <tr>\n",
       "      <th>4</th>\n",
       "      <td>5.0</td>\n",
       "      <td>3.6</td>\n",
       "      <td>1.4</td>\n",
       "      <td>0.2</td>\n",
       "      <td>Iris-setosa</td>\n",
       "    </tr>\n",
       "  </tbody>\n",
       "</table>\n",
       "</div>"
      ],
      "text/plain": [
       "   sepal_length  sepal_width  petal_length  petal_width      species\n",
       "0           5.1          3.5           1.4          0.2  Iris-setosa\n",
       "1           4.9          3.0           1.4          0.2  Iris-setosa\n",
       "2           4.7          3.2           1.3          0.2  Iris-setosa\n",
       "3           4.6          3.1           1.5          0.2  Iris-setosa\n",
       "4           5.0          3.6           1.4          0.2  Iris-setosa"
      ]
     },
     "execution_count": 54,
     "metadata": {},
     "output_type": "execute_result"
    }
   ],
   "source": [
    "iris.head()"
   ]
  },
  {
   "cell_type": "code",
   "execution_count": 55,
   "id": "68292d19",
   "metadata": {},
   "outputs": [],
   "source": [
    "x=iris.drop(['species'],axis=1)"
   ]
  },
  {
   "cell_type": "code",
   "execution_count": 56,
   "id": "08825939",
   "metadata": {},
   "outputs": [],
   "source": [
    "y=iris['species']"
   ]
  },
  {
   "cell_type": "code",
   "execution_count": 57,
   "id": "765c702d",
   "metadata": {},
   "outputs": [
    {
     "data": {
      "text/plain": [
       "0         Iris-setosa\n",
       "1         Iris-setosa\n",
       "2         Iris-setosa\n",
       "3         Iris-setosa\n",
       "4         Iris-setosa\n",
       "            ...      \n",
       "145    Iris-virginica\n",
       "146    Iris-virginica\n",
       "147    Iris-virginica\n",
       "148    Iris-virginica\n",
       "149    Iris-virginica\n",
       "Name: species, Length: 150, dtype: object"
      ]
     },
     "execution_count": 57,
     "metadata": {},
     "output_type": "execute_result"
    }
   ],
   "source": [
    "y"
   ]
  },
  {
   "cell_type": "code",
   "execution_count": 58,
   "id": "97f50d91",
   "metadata": {},
   "outputs": [
    {
     "name": "stdout",
     "output_type": "stream",
     "text": [
      "<class 'pandas.core.frame.DataFrame'>\n",
      "RangeIndex: 150 entries, 0 to 149\n",
      "Data columns (total 5 columns):\n",
      " #   Column        Non-Null Count  Dtype  \n",
      "---  ------        --------------  -----  \n",
      " 0   sepal_length  150 non-null    float64\n",
      " 1   sepal_width   150 non-null    float64\n",
      " 2   petal_length  150 non-null    float64\n",
      " 3   petal_width   150 non-null    float64\n",
      " 4   species       150 non-null    object \n",
      "dtypes: float64(4), object(1)\n",
      "memory usage: 6.0+ KB\n"
     ]
    }
   ],
   "source": [
    "iris.info()"
   ]
  },
  {
   "cell_type": "code",
   "execution_count": 59,
   "id": "392eed4e",
   "metadata": {},
   "outputs": [],
   "source": [
    "from sklearn.preprocessing import LabelEncoder"
   ]
  },
  {
   "cell_type": "code",
   "execution_count": 60,
   "id": "0df6d565",
   "metadata": {},
   "outputs": [],
   "source": [
    "le=LabelEncoder()"
   ]
  },
  {
   "cell_type": "code",
   "execution_count": 61,
   "id": "1bb14ea0",
   "metadata": {},
   "outputs": [],
   "source": [
    "y=le.fit_transform(y)"
   ]
  },
  {
   "cell_type": "code",
   "execution_count": 62,
   "id": "8d6fed47",
   "metadata": {},
   "outputs": [
    {
     "data": {
      "text/plain": [
       "array([0, 0, 0, 0, 0, 0, 0, 0, 0, 0, 0, 0, 0, 0, 0, 0, 0, 0, 0, 0, 0, 0,\n",
       "       0, 0, 0, 0, 0, 0, 0, 0, 0, 0, 0, 0, 0, 0, 0, 0, 0, 0, 0, 0, 0, 0,\n",
       "       0, 0, 0, 0, 0, 0, 1, 1, 1, 1, 1, 1, 1, 1, 1, 1, 1, 1, 1, 1, 1, 1,\n",
       "       1, 1, 1, 1, 1, 1, 1, 1, 1, 1, 1, 1, 1, 1, 1, 1, 1, 1, 1, 1, 1, 1,\n",
       "       1, 1, 1, 1, 1, 1, 1, 1, 1, 1, 1, 1, 2, 2, 2, 2, 2, 2, 2, 2, 2, 2,\n",
       "       2, 2, 2, 2, 2, 2, 2, 2, 2, 2, 2, 2, 2, 2, 2, 2, 2, 2, 2, 2, 2, 2,\n",
       "       2, 2, 2, 2, 2, 2, 2, 2, 2, 2, 2, 2, 2, 2, 2, 2, 2, 2])"
      ]
     },
     "execution_count": 62,
     "metadata": {},
     "output_type": "execute_result"
    }
   ],
   "source": [
    "y"
   ]
  },
  {
   "cell_type": "code",
   "execution_count": 63,
   "id": "5914fec2",
   "metadata": {},
   "outputs": [],
   "source": [
    "from sklearn.model_selection import train_test_split"
   ]
  },
  {
   "cell_type": "code",
   "execution_count": 64,
   "id": "5bdbee3c",
   "metadata": {},
   "outputs": [],
   "source": [
    "x_train,x_test,y_train,y_test=train_test_split(x,y,train_size=0.7,random_state=2529)"
   ]
  },
  {
   "cell_type": "code",
   "execution_count": 65,
   "id": "b452c609",
   "metadata": {},
   "outputs": [
    {
     "data": {
      "text/plain": [
       "((105, 4), (45, 4), (105,), (45,))"
      ]
     },
     "execution_count": 65,
     "metadata": {},
     "output_type": "execute_result"
    }
   ],
   "source": [
    "x_train.shape,x_test.shape,y_train.shape,y_test.shape"
   ]
  },
  {
   "cell_type": "code",
   "execution_count": 66,
   "id": "84747427",
   "metadata": {},
   "outputs": [],
   "source": [
    "from sklearn.preprocessing import StandardScaler"
   ]
  },
  {
   "cell_type": "code",
   "execution_count": 67,
   "id": "03927f70",
   "metadata": {},
   "outputs": [],
   "source": [
    "ss=StandardScaler()"
   ]
  },
  {
   "cell_type": "code",
   "execution_count": 68,
   "id": "78fbdf95",
   "metadata": {},
   "outputs": [],
   "source": [
    "x_train=ss.fit_transform(x_train)"
   ]
  },
  {
   "cell_type": "code",
   "execution_count": 69,
   "id": "7b042c10",
   "metadata": {},
   "outputs": [
    {
     "data": {
      "text/plain": [
       "array([[-0.45274402, -0.05379268,  0.53306676,  0.5028967 ],\n",
       "       [-1.88933563, -0.05379268, -1.49576942, -1.42728124],\n",
       "       [-0.19154555, -0.27972194, -0.00397811,  0.227157  ],\n",
       "       [-0.84454173,  0.84992435, -1.25708281, -1.28941139],\n",
       "       [-0.06094631, -0.95750971, -0.06364976, -0.18645256],\n",
       "       [-0.7139425 ,  2.43142916, -1.25708281, -1.42728124],\n",
       "       [-0.84454173,  1.75364139, -1.0183962 , -1.01367168],\n",
       "       [-0.19154555, -1.18343897,  0.17503685, -0.04858271],\n",
       "       [-1.23633945,  0.84992435, -1.0183962 , -1.28941139],\n",
       "       [ 0.72264911, -1.18343897,  0.83142502,  1.05437611],\n",
       "       [-0.06094631, -0.05379268,  0.3540518 ,  0.08928714],\n",
       "       [ 0.20025216,  0.39806584,  0.71208172,  0.91650626],\n",
       "       [-0.84454173,  1.75364139, -1.25708281, -1.15154153],\n",
       "       [-1.10574021, -1.40936823, -0.18299307, -0.18645256],\n",
       "       [ 0.59204988, -0.27972194,  0.41372346,  0.227157  ],\n",
       "       [ 0.85324835,  0.39806584,  1.01043998,  1.60585552],\n",
       "       [-0.32214479,  2.65735842, -1.31675446, -1.28941139],\n",
       "       [ 0.72264911, -0.27972194,  1.18945493,  0.91650626],\n",
       "       [ 0.98384759, -0.5056512 ,  0.59273841,  0.5028967 ],\n",
       "       [-0.97514097,  0.84992435, -1.19741116, -1.01367168],\n",
       "       [-0.06094631, -1.18343897,  0.83142502,  1.19224597],\n",
       "       [-0.45274402,  0.84992435, -1.1377395 , -1.28941139],\n",
       "       [-0.32214479, -1.18343897,  0.2347085 ,  0.227157  ],\n",
       "       [ 0.85324835, -0.5056512 ,  1.18945493,  1.46798567],\n",
       "       [-1.49753792,  0.17213658, -1.25708281, -1.28941139],\n",
       "       [ 1.89804225,  1.30178287,  1.4878132 ,  1.88159523],\n",
       "       [ 0.98384759, -0.05379268,  1.12978328,  0.91650626],\n",
       "       [-0.06094631,  1.75364139, -1.1377395 , -1.15154153],\n",
       "       [-0.19154555, -0.05379268,  0.53306676,  0.5028967 ],\n",
       "       [-0.97514097,  1.30178287, -1.31675446, -1.28941139],\n",
       "       [ 0.59204988, -1.86122675,  0.53306676,  0.5028967 ],\n",
       "       [ 0.46145064, -0.27972194,  0.65241006,  0.36502685],\n",
       "       [ 0.85324835, -0.73158046,  1.01043998,  1.05437611],\n",
       "       [-0.7139425 ,  1.07585361, -1.25708281, -1.28941139],\n",
       "       [-0.7139425 , -0.73158046,  0.17503685,  0.36502685],\n",
       "       [-0.84454173,  1.07585361, -1.31675446, -1.28941139],\n",
       "       [ 1.24504606, -1.18343897,  1.30879824,  0.91650626],\n",
       "       [ 0.06965293, -0.73158046,  0.17503685,  0.08928714],\n",
       "       [-1.23633945, -0.05379268, -1.31675446, -1.15154153],\n",
       "       [-1.49753792,  0.39806584, -1.31675446, -1.28941139],\n",
       "       [ 0.98384759, -0.05379268,  0.95076833,  1.19224597],\n",
       "       [ 2.55103844, -0.95750971,  1.96518641,  1.60585552],\n",
       "       [ 1.24504606, -0.05379268,  0.83142502,  0.77863641],\n",
       "       [ 1.24504606,  0.17213658,  1.18945493,  1.74372538],\n",
       "       [-1.7587364 , -0.05379268, -1.37642611, -1.28941139],\n",
       "       [-0.84454173, -1.18343897, -0.36200802, -0.04858271],\n",
       "       [-0.84454173,  1.07585361, -1.31675446, -1.15154153],\n",
       "       [-0.97514097,  0.62399509, -1.31675446, -1.28941139],\n",
       "       [-1.7587364 , -0.27972194, -1.31675446, -1.28941139],\n",
       "       [ 0.72264911, -0.73158046,  0.77175337,  0.91650626],\n",
       "       [-1.36693868,  0.39806584, -1.19741116, -1.28941139],\n",
       "       [ 1.24504606,  0.17213658,  0.65241006,  0.5028967 ],\n",
       "       [ 0.3308514 , -1.86122675,  0.2347085 , -0.18645256],\n",
       "       [ 2.55103844, -0.05379268,  1.4878132 ,  1.60585552],\n",
       "       [ 0.98384759, -0.05379268,  1.30879824,  1.46798567],\n",
       "       [ 1.11444683, -0.05379268,  0.47339511,  0.36502685],\n",
       "       [ 0.85324835, -0.27972194,  0.41372346,  0.227157  ],\n",
       "       [ 0.06965293, -0.73158046,  0.89109667,  1.05437611],\n",
       "       [-0.06094631, -0.5056512 ,  0.29438015,  0.227157  ],\n",
       "       [ 1.89804225,  0.39806584,  1.42814154,  0.91650626],\n",
       "       [ 1.24504606, -0.05379268,  0.95076833,  1.60585552],\n",
       "       [ 0.3308514 , -1.86122675,  0.83142502,  0.5028967 ],\n",
       "       [ 0.85324835,  0.17213658,  1.12978328,  0.91650626],\n",
       "       [ 0.72264911, -1.63529749,  0.47339511,  0.227157  ],\n",
       "       [-1.23633945,  0.84992435, -1.19741116, -1.28941139],\n",
       "       [-0.97514097, -1.63529749, -0.18299307, -0.18645256],\n",
       "       [-0.45274402,  1.97957065, -1.37642611, -1.01367168],\n",
       "       [ 0.59204988, -0.5056512 ,  0.71208172,  0.91650626],\n",
       "       [ 1.24504606,  0.17213658,  0.47339511,  0.36502685],\n",
       "       [-0.19154555, -0.73158046,  0.3540518 ,  0.227157  ],\n",
       "       [ 0.3308514 , -0.27972194,  0.53306676,  0.5028967 ],\n",
       "       [-0.45274402,  1.97957065, -1.1377395 , -1.01367168],\n",
       "       [ 0.46145064, -0.05379268,  0.77175337,  0.91650626],\n",
       "       [ 1.3756453 , -0.05379268,  1.12978328,  1.33011582],\n",
       "       [ 0.72264911, -0.5056512 ,  0.89109667,  0.5028967 ],\n",
       "       [ 0.3308514 , -0.73158046,  0.89109667,  0.64076655],\n",
       "       [-1.23633945,  0.17213658, -1.19741116, -1.28941139],\n",
       "       [ 0.46145064, -0.5056512 ,  0.65241006,  0.08928714],\n",
       "       [ 0.06965293,  2.2054999 , -1.43609776, -1.28941139],\n",
       "       [-0.45274402,  0.84992435, -1.25708281, -1.01367168],\n",
       "       [-0.32214479, -1.40936823,  0.05569354, -0.18645256],\n",
       "       [-1.49753792,  1.30178287, -1.55544107, -1.28941139],\n",
       "       [-1.62813716, -1.63529749, -1.37642611, -1.15154153],\n",
       "       [ 0.72264911,  0.62399509,  0.65241006,  0.64076655],\n",
       "       [-0.32214479,  1.07585361, -1.37642611, -1.28941139],\n",
       "       [ 0.06965293, -0.73158046,  0.29438015, -0.18645256],\n",
       "       [-1.7587364 ,  0.39806584, -1.37642611, -1.28941139],\n",
       "       [-1.36693868,  0.39806584, -1.37642611, -1.28941139],\n",
       "       [-0.97514097,  0.84992435, -1.25708281, -1.28941139],\n",
       "       [ 0.06965293, -0.95750971,  0.2347085 ,  0.08928714],\n",
       "       [ 0.72264911,  0.84992435,  1.18945493,  1.74372538],\n",
       "       [ 0.46145064, -0.5056512 ,  0.2347085 ,  0.227157  ],\n",
       "       [-0.06094631, -0.5056512 ,  0.53306676,  0.227157  ],\n",
       "       [-1.10574021, -1.18343897,  0.53306676,  0.77863641],\n",
       "       [-1.10574021,  0.17213658, -1.25708281, -1.42728124],\n",
       "       [-0.97514097,  1.07585361, -1.37642611, -1.15154153],\n",
       "       [ 1.11444683, -0.27972194,  0.59273841,  0.227157  ],\n",
       "       [-0.97514097,  1.07585361, -1.19741116, -0.73793197],\n",
       "       [ 0.3308514 ,  0.84992435,  0.53306676,  0.64076655],\n",
       "       [ 1.24504606,  0.62399509,  1.24912659,  1.33011582],\n",
       "       [ 0.72264911, -1.18343897,  0.77175337,  0.5028967 ],\n",
       "       [ 1.3756453 ,  0.39806584,  1.36846989,  1.60585552],\n",
       "       [-0.97514097, -2.31308526, -0.06364976, -0.18645256],\n",
       "       [ 1.63684377,  0.39806584,  0.65241006,  0.36502685],\n",
       "       [-0.06094631, -0.27972194,  0.3540518 ,  0.227157  ]])"
      ]
     },
     "execution_count": 69,
     "metadata": {},
     "output_type": "execute_result"
    }
   ],
   "source": [
    "x_train"
   ]
  },
  {
   "cell_type": "code",
   "execution_count": 70,
   "id": "1c1c9221",
   "metadata": {},
   "outputs": [],
   "source": [
    "x_test=ss.fit_transform(x_test)"
   ]
  },
  {
   "cell_type": "code",
   "execution_count": 71,
   "id": "9a1b522b",
   "metadata": {},
   "outputs": [
    {
     "data": {
      "text/plain": [
       "array([[-0.84411839,  1.44663393, -1.38208209, -1.40129465],\n",
       "       [-1.61260768,  0.69259694, -1.43496789, -1.27908873],\n",
       "       [-0.40498166,  3.20605358, -1.38208209, -1.1568828 ],\n",
       "       [ 0.03415508, -1.31816837,  0.78623548,  0.0651765 ],\n",
       "       [ 1.68091784, -0.31278572,  1.31509342,  0.920618  ],\n",
       "       [ 0.80264437, -0.81547704,  0.36314912,  0.0651765 ],\n",
       "       [ 1.46134947, -0.81547704,  1.05066445,  0.67620614],\n",
       "       [ 0.36350763,  0.18990561,  0.20449174,  0.18738242],\n",
       "       [ 1.13199692, -0.31278572,  0.94489286,  0.920618  ],\n",
       "       [-0.29519747, -0.81547704,  0.5218065 ,  1.28723579],\n",
       "       [-0.18541329, -0.31278572,  0.5218065 ,  0.55400021],\n",
       "       [-0.0756291 , -0.31278572,  0.36314912,  0.55400021],\n",
       "       [ 0.91242855, -0.06144005,  0.5218065 ,  1.16502986],\n",
       "       [ 2.01027039,  1.6979796 ,  1.20932183,  0.79841207],\n",
       "       [-1.17347094,  0.18990561, -1.54073947, -1.40129465],\n",
       "       [-0.29519747, -1.06682271,  0.5218065 ,  0.67620614],\n",
       "       [ 0.03415508, -0.31278572,  0.25737753,  0.0651765 ],\n",
       "       [ 1.35156529, -0.56413138,  1.15643604,  0.55400021],\n",
       "       [-1.06368676,  1.6979796 , -1.3291963 , -1.40129465],\n",
       "       [-1.28325513, -0.06144005, -1.38208209, -1.52350058],\n",
       "       [-1.39303931, -0.31278572, -1.43496789, -1.52350058],\n",
       "       [-1.28325513, -0.06144005, -1.38208209, -1.52350058],\n",
       "       [ 0.69286018,  0.44125128,  0.83912127,  1.40944172],\n",
       "       [ 0.91242855,  0.18990561,  0.83912127,  1.16502986],\n",
       "       [-0.62455002, -1.31816837,  0.15160594, -0.17923536],\n",
       "       [-0.62455002, -1.8208597 , -0.16570882, -0.30144129],\n",
       "       [-0.95390258,  0.69259694, -1.43496789, -1.40129465],\n",
       "       [ 0.91242855, -0.06144005,  0.68046389,  0.920618  ],\n",
       "       [ 0.14393926,  0.69259694,  0.68046389,  1.16502986],\n",
       "       [-1.28325513, -0.31278572, -1.43496789, -1.40129465],\n",
       "       [-0.51476584, -0.81547704,  0.41603492,  0.79841207],\n",
       "       [ 0.25372345,  0.44125128,  0.99777865,  1.40944172],\n",
       "       [-1.06368676,  0.44125128, -1.2763105 , -1.03467687],\n",
       "       [-1.06368676,  1.44663393, -1.38208209, -1.1568828 ],\n",
       "       [ 1.79070202, -0.81547704,  1.36797921,  0.79841207],\n",
       "       [ 0.36350763, -0.81547704,  0.78623548,  0.920618  ],\n",
       "       [-0.51476584, -0.31278572, -0.00705144, -0.05702943],\n",
       "       [-0.73433421,  1.44663393, -1.38208209, -1.40129465],\n",
       "       [ 1.79070202,  1.6979796 ,  1.36797921,  1.04282393],\n",
       "       [-1.17347094, -0.31278572, -1.3291963 , -1.40129465],\n",
       "       [ 0.47329182,  0.18990561,  0.5218065 ,  0.79841207],\n",
       "       [ 0.91242855, -0.06144005,  0.41603492,  0.18738242],\n",
       "       [-0.18541329, -0.31278572,  0.04583436,  0.18738242],\n",
       "       [-0.62455002, -2.07220536, -0.05993723, -0.05702943],\n",
       "       [ 1.2417811 , -0.31278572,  0.89200706,  0.30958835]])"
      ]
     },
     "execution_count": 71,
     "metadata": {},
     "output_type": "execute_result"
    }
   ],
   "source": [
    "x_test"
   ]
  },
  {
   "cell_type": "code",
   "execution_count": 86,
   "id": "df970222",
   "metadata": {},
   "outputs": [],
   "source": [
    "from sklearn.neighbors import KNeighborsClassifier"
   ]
  },
  {
   "cell_type": "code",
   "execution_count": 91,
   "id": "714a3e2a",
   "metadata": {},
   "outputs": [],
   "source": [
    "knncla=KNeighborsClassifier()"
   ]
  },
  {
   "cell_type": "code",
   "execution_count": 92,
   "id": "06c3ee85",
   "metadata": {},
   "outputs": [
    {
     "data": {
      "text/plain": [
       "KNeighborsClassifier()"
      ]
     },
     "execution_count": 92,
     "metadata": {},
     "output_type": "execute_result"
    }
   ],
   "source": [
    "knncla.fit(x_train,y_train)"
   ]
  },
  {
   "cell_type": "code",
   "execution_count": 93,
   "id": "d29d76db",
   "metadata": {},
   "outputs": [],
   "source": [
    "y_pred=knncla.predict(x_test)"
   ]
  },
  {
   "cell_type": "code",
   "execution_count": 111,
   "id": "b86cac97",
   "metadata": {},
   "outputs": [],
   "source": [
    "from sklearn.metrics import classification_report,confusion_matrix"
   ]
  },
  {
   "cell_type": "code",
   "execution_count": 112,
   "id": "b90d2f24",
   "metadata": {},
   "outputs": [],
   "source": [
    "from sklearn.metrics import mean_absolute_error"
   ]
  },
  {
   "cell_type": "code",
   "execution_count": 113,
   "id": "a64582be",
   "metadata": {},
   "outputs": [
    {
     "data": {
      "text/plain": [
       "'              precision    recall  f1-score   support\\n\\n           0       1.00      1.00      1.00        14\\n           1       0.53      1.00      0.69         9\\n           2       1.00      0.64      0.78        22\\n\\n    accuracy                           0.82        45\\n   macro avg       0.84      0.88      0.82        45\\nweighted avg       0.91      0.82      0.83        45\\n'"
      ]
     },
     "execution_count": 113,
     "metadata": {},
     "output_type": "execute_result"
    }
   ],
   "source": [
    "classification_report(y_test,y_pred)"
   ]
  },
  {
   "cell_type": "code",
   "execution_count": 114,
   "id": "81017335",
   "metadata": {},
   "outputs": [
    {
     "data": {
      "text/plain": [
       "array([[14,  0,  0],\n",
       "       [ 0,  9,  0],\n",
       "       [ 0,  8, 14]], dtype=int64)"
      ]
     },
     "execution_count": 114,
     "metadata": {},
     "output_type": "execute_result"
    }
   ],
   "source": [
    "confusion_matrix(y_test,y_pred)"
   ]
  },
  {
   "cell_type": "code",
   "execution_count": 115,
   "id": "fc3ecdfd",
   "metadata": {},
   "outputs": [
    {
     "name": "stdout",
     "output_type": "stream",
     "text": [
      "              precision    recall  f1-score   support\n",
      "\n",
      "           0       1.00      1.00      1.00        14\n",
      "           1       0.53      1.00      0.69         9\n",
      "           2       1.00      0.64      0.78        22\n",
      "\n",
      "    accuracy                           0.82        45\n",
      "   macro avg       0.84      0.88      0.82        45\n",
      "weighted avg       0.91      0.82      0.83        45\n",
      "\n"
     ]
    }
   ],
   "source": [
    "print(classification_report(y_test,y_pred))"
   ]
  },
  {
   "cell_type": "code",
   "execution_count": 116,
   "id": "c2bf8317",
   "metadata": {},
   "outputs": [
    {
     "name": "stdout",
     "output_type": "stream",
     "text": [
      "[[14  0  0]\n",
      " [ 0  9  0]\n",
      " [ 0  8 14]]\n"
     ]
    }
   ],
   "source": [
    "print(confusion_matrix(y_test,y_pred))"
   ]
  },
  {
   "cell_type": "code",
   "execution_count": 125,
   "id": "793366cc",
   "metadata": {},
   "outputs": [],
   "source": [
    "error_rate=[]\n",
    "\n",
    "for i in range(1,40):\n",
    "    knn=KNeighborsClassifier(n_neighbors=i,algorithm='kd_tree')\n",
    "    knn.fit(x_train,y_train)\n",
    "    pred_i=knn.predict(x_test)\n",
    "    error_rate.append(mean_absolute_error(y_test,pred_i))\n",
    "    "
   ]
  },
  {
   "cell_type": "code",
   "execution_count": 123,
   "id": "072ae729",
   "metadata": {},
   "outputs": [
    {
     "data": {
      "text/plain": [
       "[0.24444444444444444,\n",
       " 0.3111111111111111,\n",
       " 0.2,\n",
       " 0.2222222222222222,\n",
       " 0.17777777777777778,\n",
       " 0.17777777777777778,\n",
       " 0.15555555555555556,\n",
       " 0.2222222222222222,\n",
       " 0.17777777777777778,\n",
       " 0.2,\n",
       " 0.2,\n",
       " 0.2,\n",
       " 0.17777777777777778,\n",
       " 0.17777777777777778,\n",
       " 0.17777777777777778,\n",
       " 0.17777777777777778,\n",
       " 0.17777777777777778,\n",
       " 0.17777777777777778,\n",
       " 0.17777777777777778,\n",
       " 0.24444444444444444,\n",
       " 0.2222222222222222,\n",
       " 0.2222222222222222,\n",
       " 0.17777777777777778,\n",
       " 0.2222222222222222,\n",
       " 0.2,\n",
       " 0.24444444444444444,\n",
       " 0.2222222222222222,\n",
       " 0.24444444444444444,\n",
       " 0.2,\n",
       " 0.24444444444444444,\n",
       " 0.2222222222222222,\n",
       " 0.24444444444444444,\n",
       " 0.2,\n",
       " 0.26666666666666666,\n",
       " 0.2222222222222222,\n",
       " 0.2222222222222222,\n",
       " 0.2222222222222222,\n",
       " 0.26666666666666666,\n",
       " 0.24444444444444444]"
      ]
     },
     "execution_count": 123,
     "metadata": {},
     "output_type": "execute_result"
    }
   ],
   "source": [
    "error_rate"
   ]
  },
  {
   "cell_type": "code",
   "execution_count": 124,
   "id": "f78fac08",
   "metadata": {},
   "outputs": [
    {
     "data": {
      "text/plain": [
       "<function matplotlib.pyplot.show(close=None, block=None)>"
      ]
     },
     "execution_count": 124,
     "metadata": {},
     "output_type": "execute_result"
    },
    {
     "data": {
      "image/png": "[encoded data removed]",
      "text/plain": [
       "<Figure size 864x1080 with 1 Axes>"
      ]
     },
     "metadata": {
      "needs_background": "light"
     },
     "output_type": "display_data"
    }
   ],
   "source": [
    "fig,ax=plt.subplots(figsize=(12,15))\n",
    "ax.plot(range(1,40),error_rate,color='red')\n",
    "plt.show"
   ]
  },
  {
   "cell_type": "code",
   "execution_count": null,
   "id": "e66d4d1e",
   "metadata": {},
   "outputs": [],
   "source": []
  }
 ],
 "metadata": {
  "kernelspec": {
   "display_name": "Python 3 (ipykernel)",
   "language": "python",
   "name": "python3"
  },
  "language_info": {
   "codemirror_mode": {
    "name": "ipython",
    "version": 3
   },
   "file_extension": ".py",
   "mimetype": "text/x-python",
   "name": "python",
   "nbconvert_exporter": "python",
   "pygments_lexer": "ipython3",
   "version": "3.9.7"
  }
 },
 "nbformat": 4,
 "nbformat_minor": 5
}
