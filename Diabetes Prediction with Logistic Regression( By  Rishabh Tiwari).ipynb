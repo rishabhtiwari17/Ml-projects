{
 "cells": [
  {
   "cell_type": "markdown",
   "id": "c27a0eb2",
   "metadata": {},
   "source": [
    "Import Library"
   ]
  },
  {
   "cell_type": "code",
   "execution_count": 1,
   "id": "8193cf40",
   "metadata": {},
   "outputs": [],
   "source": [
    "import pandas as pd\n",
    "import numpy as np "
   ]
  },
  {
   "cell_type": "code",
   "execution_count": 2,
   "id": "e0978618",
   "metadata": {},
   "outputs": [],
   "source": [
    "df=pd.read_csv(r'https://raw.githubusercontent.com/YBI-Foundation/Dataset/main/Diabetes.csv')"
   ]
  },
  {
   "cell_type": "code",
   "execution_count": 3,
   "id": "718cf985",
   "metadata": {},
   "outputs": [
    {
     "data": {
      "text/html": [
       "<div>\n",
       "<style scoped>\n",
       "    .dataframe tbody tr th:only-of-type {\n",
       "        vertical-align: middle;\n",
       "    }\n",
       "\n",
       "    .dataframe tbody tr th {\n",
       "        vertical-align: top;\n",
       "    }\n",
       "\n",
       "    .dataframe thead th {\n",
       "        text-align: right;\n",
       "    }\n",
       "</style>\n",
       "<table border=\"1\" class=\"dataframe\">\n",
       "  <thead>\n",
       "    <tr style=\"text-align: right;\">\n",
       "      <th></th>\n",
       "      <th>pregnancies</th>\n",
       "      <th>glucose</th>\n",
       "      <th>diastolic</th>\n",
       "      <th>triceps</th>\n",
       "      <th>insulin</th>\n",
       "      <th>bmi</th>\n",
       "      <th>dpf</th>\n",
       "      <th>age</th>\n",
       "      <th>diabetes</th>\n",
       "    </tr>\n",
       "  </thead>\n",
       "  <tbody>\n",
       "    <tr>\n",
       "      <th>0</th>\n",
       "      <td>6</td>\n",
       "      <td>148</td>\n",
       "      <td>72</td>\n",
       "      <td>35</td>\n",
       "      <td>0</td>\n",
       "      <td>33.6</td>\n",
       "      <td>0.627</td>\n",
       "      <td>50</td>\n",
       "      <td>1</td>\n",
       "    </tr>\n",
       "    <tr>\n",
       "      <th>1</th>\n",
       "      <td>1</td>\n",
       "      <td>85</td>\n",
       "      <td>66</td>\n",
       "      <td>29</td>\n",
       "      <td>0</td>\n",
       "      <td>26.6</td>\n",
       "      <td>0.351</td>\n",
       "      <td>31</td>\n",
       "      <td>0</td>\n",
       "    </tr>\n",
       "    <tr>\n",
       "      <th>2</th>\n",
       "      <td>8</td>\n",
       "      <td>183</td>\n",
       "      <td>64</td>\n",
       "      <td>0</td>\n",
       "      <td>0</td>\n",
       "      <td>23.3</td>\n",
       "      <td>0.672</td>\n",
       "      <td>32</td>\n",
       "      <td>1</td>\n",
       "    </tr>\n",
       "    <tr>\n",
       "      <th>3</th>\n",
       "      <td>1</td>\n",
       "      <td>89</td>\n",
       "      <td>66</td>\n",
       "      <td>23</td>\n",
       "      <td>94</td>\n",
       "      <td>28.1</td>\n",
       "      <td>0.167</td>\n",
       "      <td>21</td>\n",
       "      <td>0</td>\n",
       "    </tr>\n",
       "    <tr>\n",
       "      <th>4</th>\n",
       "      <td>0</td>\n",
       "      <td>137</td>\n",
       "      <td>40</td>\n",
       "      <td>35</td>\n",
       "      <td>168</td>\n",
       "      <td>43.1</td>\n",
       "      <td>2.288</td>\n",
       "      <td>33</td>\n",
       "      <td>1</td>\n",
       "    </tr>\n",
       "  </tbody>\n",
       "</table>\n",
       "</div>"
      ],
      "text/plain": [
       "   pregnancies  glucose  diastolic  triceps  insulin   bmi    dpf  age  \\\n",
       "0            6      148         72       35        0  33.6  0.627   50   \n",
       "1            1       85         66       29        0  26.6  0.351   31   \n",
       "2            8      183         64        0        0  23.3  0.672   32   \n",
       "3            1       89         66       23       94  28.1  0.167   21   \n",
       "4            0      137         40       35      168  43.1  2.288   33   \n",
       "\n",
       "   diabetes  \n",
       "0         1  \n",
       "1         0  \n",
       "2         1  \n",
       "3         0  \n",
       "4         1  "
      ]
     },
     "execution_count": 3,
     "metadata": {},
     "output_type": "execute_result"
    }
   ],
   "source": [
    "df.head()"
   ]
  },
  {
   "cell_type": "code",
   "execution_count": 4,
   "id": "fd2e6dee",
   "metadata": {},
   "outputs": [
    {
     "name": "stdout",
     "output_type": "stream",
     "text": [
      "<class 'pandas.core.frame.DataFrame'>\n",
      "RangeIndex: 768 entries, 0 to 767\n",
      "Data columns (total 9 columns):\n",
      " #   Column       Non-Null Count  Dtype  \n",
      "---  ------       --------------  -----  \n",
      " 0   pregnancies  768 non-null    int64  \n",
      " 1   glucose      768 non-null    int64  \n",
      " 2   diastolic    768 non-null    int64  \n",
      " 3   triceps      768 non-null    int64  \n",
      " 4   insulin      768 non-null    int64  \n",
      " 5   bmi          768 non-null    float64\n",
      " 6   dpf          768 non-null    float64\n",
      " 7   age          768 non-null    int64  \n",
      " 8   diabetes     768 non-null    int64  \n",
      "dtypes: float64(2), int64(7)\n",
      "memory usage: 54.1 KB\n"
     ]
    }
   ],
   "source": [
    "df.info()"
   ]
  },
  {
   "cell_type": "code",
   "execution_count": 5,
   "id": "b0f321b2",
   "metadata": {},
   "outputs": [
    {
     "data": {
      "text/html": [
       "<div>\n",
       "<style scoped>\n",
       "    .dataframe tbody tr th:only-of-type {\n",
       "        vertical-align: middle;\n",
       "    }\n",
       "\n",
       "    .dataframe tbody tr th {\n",
       "        vertical-align: top;\n",
       "    }\n",
       "\n",
       "    .dataframe thead th {\n",
       "        text-align: right;\n",
       "    }\n",
       "</style>\n",
       "<table border=\"1\" class=\"dataframe\">\n",
       "  <thead>\n",
       "    <tr style=\"text-align: right;\">\n",
       "      <th></th>\n",
       "      <th>pregnancies</th>\n",
       "      <th>glucose</th>\n",
       "      <th>diastolic</th>\n",
       "      <th>triceps</th>\n",
       "      <th>insulin</th>\n",
       "      <th>bmi</th>\n",
       "      <th>dpf</th>\n",
       "      <th>age</th>\n",
       "      <th>diabetes</th>\n",
       "    </tr>\n",
       "  </thead>\n",
       "  <tbody>\n",
       "    <tr>\n",
       "      <th>count</th>\n",
       "      <td>768.000000</td>\n",
       "      <td>768.000000</td>\n",
       "      <td>768.000000</td>\n",
       "      <td>768.000000</td>\n",
       "      <td>768.000000</td>\n",
       "      <td>768.000000</td>\n",
       "      <td>768.000000</td>\n",
       "      <td>768.000000</td>\n",
       "      <td>768.000000</td>\n",
       "    </tr>\n",
       "    <tr>\n",
       "      <th>mean</th>\n",
       "      <td>3.845052</td>\n",
       "      <td>120.894531</td>\n",
       "      <td>69.105469</td>\n",
       "      <td>20.536458</td>\n",
       "      <td>79.799479</td>\n",
       "      <td>31.992578</td>\n",
       "      <td>0.471876</td>\n",
       "      <td>33.240885</td>\n",
       "      <td>0.348958</td>\n",
       "    </tr>\n",
       "    <tr>\n",
       "      <th>std</th>\n",
       "      <td>3.369578</td>\n",
       "      <td>31.972618</td>\n",
       "      <td>19.355807</td>\n",
       "      <td>15.952218</td>\n",
       "      <td>115.244002</td>\n",
       "      <td>7.884160</td>\n",
       "      <td>0.331329</td>\n",
       "      <td>11.760232</td>\n",
       "      <td>0.476951</td>\n",
       "    </tr>\n",
       "    <tr>\n",
       "      <th>min</th>\n",
       "      <td>0.000000</td>\n",
       "      <td>0.000000</td>\n",
       "      <td>0.000000</td>\n",
       "      <td>0.000000</td>\n",
       "      <td>0.000000</td>\n",
       "      <td>0.000000</td>\n",
       "      <td>0.078000</td>\n",
       "      <td>21.000000</td>\n",
       "      <td>0.000000</td>\n",
       "    </tr>\n",
       "    <tr>\n",
       "      <th>25%</th>\n",
       "      <td>1.000000</td>\n",
       "      <td>99.000000</td>\n",
       "      <td>62.000000</td>\n",
       "      <td>0.000000</td>\n",
       "      <td>0.000000</td>\n",
       "      <td>27.300000</td>\n",
       "      <td>0.243750</td>\n",
       "      <td>24.000000</td>\n",
       "      <td>0.000000</td>\n",
       "    </tr>\n",
       "    <tr>\n",
       "      <th>50%</th>\n",
       "      <td>3.000000</td>\n",
       "      <td>117.000000</td>\n",
       "      <td>72.000000</td>\n",
       "      <td>23.000000</td>\n",
       "      <td>30.500000</td>\n",
       "      <td>32.000000</td>\n",
       "      <td>0.372500</td>\n",
       "      <td>29.000000</td>\n",
       "      <td>0.000000</td>\n",
       "    </tr>\n",
       "    <tr>\n",
       "      <th>75%</th>\n",
       "      <td>6.000000</td>\n",
       "      <td>140.250000</td>\n",
       "      <td>80.000000</td>\n",
       "      <td>32.000000</td>\n",
       "      <td>127.250000</td>\n",
       "      <td>36.600000</td>\n",
       "      <td>0.626250</td>\n",
       "      <td>41.000000</td>\n",
       "      <td>1.000000</td>\n",
       "    </tr>\n",
       "    <tr>\n",
       "      <th>max</th>\n",
       "      <td>17.000000</td>\n",
       "      <td>199.000000</td>\n",
       "      <td>122.000000</td>\n",
       "      <td>99.000000</td>\n",
       "      <td>846.000000</td>\n",
       "      <td>67.100000</td>\n",
       "      <td>2.420000</td>\n",
       "      <td>81.000000</td>\n",
       "      <td>1.000000</td>\n",
       "    </tr>\n",
       "  </tbody>\n",
       "</table>\n",
       "</div>"
      ],
      "text/plain": [
       "       pregnancies     glucose   diastolic     triceps     insulin  \\\n",
       "count   768.000000  768.000000  768.000000  768.000000  768.000000   \n",
       "mean      3.845052  120.894531   69.105469   20.536458   79.799479   \n",
       "std       3.369578   31.972618   19.355807   15.952218  115.244002   \n",
       "min       0.000000    0.000000    0.000000    0.000000    0.000000   \n",
       "25%       1.000000   99.000000   62.000000    0.000000    0.000000   \n",
       "50%       3.000000  117.000000   72.000000   23.000000   30.500000   \n",
       "75%       6.000000  140.250000   80.000000   32.000000  127.250000   \n",
       "max      17.000000  199.000000  122.000000   99.000000  846.000000   \n",
       "\n",
       "              bmi         dpf         age    diabetes  \n",
       "count  768.000000  768.000000  768.000000  768.000000  \n",
       "mean    31.992578    0.471876   33.240885    0.348958  \n",
       "std      7.884160    0.331329   11.760232    0.476951  \n",
       "min      0.000000    0.078000   21.000000    0.000000  \n",
       "25%     27.300000    0.243750   24.000000    0.000000  \n",
       "50%     32.000000    0.372500   29.000000    0.000000  \n",
       "75%     36.600000    0.626250   41.000000    1.000000  \n",
       "max     67.100000    2.420000   81.000000    1.000000  "
      ]
     },
     "execution_count": 5,
     "metadata": {},
     "output_type": "execute_result"
    }
   ],
   "source": [
    "df.describe()"
   ]
  },
  {
   "cell_type": "code",
   "execution_count": 6,
   "id": "16719e04",
   "metadata": {},
   "outputs": [
    {
     "data": {
      "text/plain": [
       "Index(['pregnancies', 'glucose', 'diastolic', 'triceps', 'insulin', 'bmi',\n",
       "       'dpf', 'age', 'diabetes'],\n",
       "      dtype='object')"
      ]
     },
     "execution_count": 6,
     "metadata": {},
     "output_type": "execute_result"
    }
   ],
   "source": [
    "df.columns"
   ]
  },
  {
   "cell_type": "code",
   "execution_count": 8,
   "id": "6b2ad252",
   "metadata": {},
   "outputs": [
    {
     "data": {
      "text/plain": [
       "(768, 9)"
      ]
     },
     "execution_count": 8,
     "metadata": {},
     "output_type": "execute_result"
    }
   ],
   "source": [
    "df.shape"
   ]
  },
  {
   "cell_type": "code",
   "execution_count": 9,
   "id": "d644bae1",
   "metadata": {},
   "outputs": [
    {
     "data": {
      "text/plain": [
       "0    500\n",
       "1    268\n",
       "Name: diabetes, dtype: int64"
      ]
     },
     "execution_count": 9,
     "metadata": {},
     "output_type": "execute_result"
    }
   ],
   "source": [
    "df['diabetes'].value_counts()"
   ]
  },
  {
   "cell_type": "code",
   "execution_count": 10,
   "id": "7bb94238",
   "metadata": {},
   "outputs": [
    {
     "data": {
      "text/html": [
       "<div>\n",
       "<style scoped>\n",
       "    .dataframe tbody tr th:only-of-type {\n",
       "        vertical-align: middle;\n",
       "    }\n",
       "\n",
       "    .dataframe tbody tr th {\n",
       "        vertical-align: top;\n",
       "    }\n",
       "\n",
       "    .dataframe thead th {\n",
       "        text-align: right;\n",
       "    }\n",
       "</style>\n",
       "<table border=\"1\" class=\"dataframe\">\n",
       "  <thead>\n",
       "    <tr style=\"text-align: right;\">\n",
       "      <th></th>\n",
       "      <th>pregnancies</th>\n",
       "      <th>glucose</th>\n",
       "      <th>diastolic</th>\n",
       "      <th>triceps</th>\n",
       "      <th>insulin</th>\n",
       "      <th>bmi</th>\n",
       "      <th>dpf</th>\n",
       "      <th>age</th>\n",
       "    </tr>\n",
       "    <tr>\n",
       "      <th>diabetes</th>\n",
       "      <th></th>\n",
       "      <th></th>\n",
       "      <th></th>\n",
       "      <th></th>\n",
       "      <th></th>\n",
       "      <th></th>\n",
       "      <th></th>\n",
       "      <th></th>\n",
       "    </tr>\n",
       "  </thead>\n",
       "  <tbody>\n",
       "    <tr>\n",
       "      <th>0</th>\n",
       "      <td>3.298000</td>\n",
       "      <td>109.980000</td>\n",
       "      <td>68.184000</td>\n",
       "      <td>19.664000</td>\n",
       "      <td>68.792000</td>\n",
       "      <td>30.304200</td>\n",
       "      <td>0.429734</td>\n",
       "      <td>31.190000</td>\n",
       "    </tr>\n",
       "    <tr>\n",
       "      <th>1</th>\n",
       "      <td>4.865672</td>\n",
       "      <td>141.257463</td>\n",
       "      <td>70.824627</td>\n",
       "      <td>22.164179</td>\n",
       "      <td>100.335821</td>\n",
       "      <td>35.142537</td>\n",
       "      <td>0.550500</td>\n",
       "      <td>37.067164</td>\n",
       "    </tr>\n",
       "  </tbody>\n",
       "</table>\n",
       "</div>"
      ],
      "text/plain": [
       "          pregnancies     glucose  diastolic    triceps     insulin  \\\n",
       "diabetes                                                              \n",
       "0            3.298000  109.980000  68.184000  19.664000   68.792000   \n",
       "1            4.865672  141.257463  70.824627  22.164179  100.335821   \n",
       "\n",
       "                bmi       dpf        age  \n",
       "diabetes                                  \n",
       "0         30.304200  0.429734  31.190000  \n",
       "1         35.142537  0.550500  37.067164  "
      ]
     },
     "execution_count": 10,
     "metadata": {},
     "output_type": "execute_result"
    }
   ],
   "source": [
    "df.groupby('diabetes').mean()"
   ]
  },
  {
   "cell_type": "markdown",
   "id": "e67ae8d0",
   "metadata": {},
   "source": [
    "Define X and Y"
   ]
  },
  {
   "cell_type": "code",
   "execution_count": 12,
   "id": "2c555d2e",
   "metadata": {},
   "outputs": [],
   "source": [
    "y=df['diabetes']"
   ]
  },
  {
   "cell_type": "code",
   "execution_count": 13,
   "id": "af4d5599",
   "metadata": {},
   "outputs": [
    {
     "data": {
      "text/plain": [
       "(768,)"
      ]
     },
     "execution_count": 13,
     "metadata": {},
     "output_type": "execute_result"
    }
   ],
   "source": [
    "y.shape"
   ]
  },
  {
   "cell_type": "code",
   "execution_count": 14,
   "id": "fa00b920",
   "metadata": {},
   "outputs": [
    {
     "data": {
      "text/plain": [
       "0      1\n",
       "1      0\n",
       "2      1\n",
       "3      0\n",
       "4      1\n",
       "      ..\n",
       "763    0\n",
       "764    0\n",
       "765    0\n",
       "766    1\n",
       "767    0\n",
       "Name: diabetes, Length: 768, dtype: int64"
      ]
     },
     "execution_count": 14,
     "metadata": {},
     "output_type": "execute_result"
    }
   ],
   "source": [
    "y"
   ]
  },
  {
   "cell_type": "code",
   "execution_count": 22,
   "id": "c5ff86ef",
   "metadata": {},
   "outputs": [],
   "source": [
    "x=df.drop('diabetes',axis=1)"
   ]
  },
  {
   "cell_type": "code",
   "execution_count": 23,
   "id": "f71324e2",
   "metadata": {},
   "outputs": [
    {
     "data": {
      "text/plain": [
       "(768, 8)"
      ]
     },
     "execution_count": 23,
     "metadata": {},
     "output_type": "execute_result"
    }
   ],
   "source": [
    "x.shape"
   ]
  },
  {
   "cell_type": "markdown",
   "id": "93e24cae",
   "metadata": {},
   "source": [
    "# Scaling"
   ]
  },
  {
   "cell_type": "code",
   "execution_count": 27,
   "id": "af498c76",
   "metadata": {},
   "outputs": [],
   "source": [
    "from sklearn.preprocessing import MinMaxScaler"
   ]
  },
  {
   "cell_type": "code",
   "execution_count": 28,
   "id": "a8e9350d",
   "metadata": {},
   "outputs": [],
   "source": [
    "mm=MinMaxScaler()"
   ]
  },
  {
   "cell_type": "code",
   "execution_count": 29,
   "id": "f267860c",
   "metadata": {},
   "outputs": [],
   "source": [
    "x=mm.fit_transform(x)"
   ]
  },
  {
   "cell_type": "code",
   "execution_count": 30,
   "id": "37595b1c",
   "metadata": {},
   "outputs": [
    {
     "data": {
      "text/plain": [
       "array([[0.35294118, 0.74371859, 0.59016393, ..., 0.50074516, 0.23441503,\n",
       "        0.48333333],\n",
       "       [0.05882353, 0.42713568, 0.54098361, ..., 0.39642325, 0.11656704,\n",
       "        0.16666667],\n",
       "       [0.47058824, 0.91959799, 0.52459016, ..., 0.34724292, 0.25362938,\n",
       "        0.18333333],\n",
       "       ...,\n",
       "       [0.29411765, 0.6080402 , 0.59016393, ..., 0.390462  , 0.07130658,\n",
       "        0.15      ],\n",
       "       [0.05882353, 0.63316583, 0.49180328, ..., 0.4485842 , 0.11571307,\n",
       "        0.43333333],\n",
       "       [0.05882353, 0.46733668, 0.57377049, ..., 0.45305514, 0.10119556,\n",
       "        0.03333333]])"
      ]
     },
     "execution_count": 30,
     "metadata": {},
     "output_type": "execute_result"
    }
   ],
   "source": [
    "x"
   ]
  },
  {
   "cell_type": "markdown",
   "id": "bcaf1542",
   "metadata": {},
   "source": [
    "# Train Test Split"
   ]
  },
  {
   "cell_type": "code",
   "execution_count": 31,
   "id": "92b3fa0e",
   "metadata": {},
   "outputs": [],
   "source": [
    "from sklearn.model_selection import train_test_split"
   ]
  },
  {
   "cell_type": "code",
   "execution_count": 34,
   "id": "ff481fda",
   "metadata": {},
   "outputs": [],
   "source": [
    "x_train,x_test,y_train,y_test=train_test_split(x,y,train_size=0.7,random_state=2429)"
   ]
  },
  {
   "cell_type": "code",
   "execution_count": 35,
   "id": "2b5ef422",
   "metadata": {},
   "outputs": [
    {
     "data": {
      "text/plain": [
       "((537, 8), (231, 8), (537,), (231,))"
      ]
     },
     "execution_count": 35,
     "metadata": {},
     "output_type": "execute_result"
    }
   ],
   "source": [
    "x_train.shape,x_test.shape,y_train.shape,y_test.shape"
   ]
  },
  {
   "cell_type": "markdown",
   "id": "5a6b0c35",
   "metadata": {},
   "source": [
    "# Logistic Regression"
   ]
  },
  {
   "cell_type": "code",
   "execution_count": 36,
   "id": "ad3bc5e8",
   "metadata": {},
   "outputs": [],
   "source": [
    "from sklearn.linear_model import LogisticRegression"
   ]
  },
  {
   "cell_type": "code",
   "execution_count": 38,
   "id": "4452b38c",
   "metadata": {},
   "outputs": [],
   "source": [
    "lr=LogisticRegression()"
   ]
  },
  {
   "cell_type": "code",
   "execution_count": 39,
   "id": "5634d5ba",
   "metadata": {},
   "outputs": [
    {
     "data": {
      "text/plain": [
       "LogisticRegression()"
      ]
     },
     "execution_count": 39,
     "metadata": {},
     "output_type": "execute_result"
    }
   ],
   "source": [
    "lr.fit(x_train,y_train)"
   ]
  },
  {
   "cell_type": "markdown",
   "id": "6710e88d",
   "metadata": {},
   "source": [
    "# Prediction"
   ]
  },
  {
   "cell_type": "code",
   "execution_count": 40,
   "id": "67742e23",
   "metadata": {},
   "outputs": [],
   "source": [
    "y_pred=lr.predict(x_test)"
   ]
  },
  {
   "cell_type": "code",
   "execution_count": 41,
   "id": "23282988",
   "metadata": {},
   "outputs": [
    {
     "data": {
      "text/plain": [
       "(231,)"
      ]
     },
     "execution_count": 41,
     "metadata": {},
     "output_type": "execute_result"
    }
   ],
   "source": [
    "y_pred.shape"
   ]
  },
  {
   "cell_type": "markdown",
   "id": "689208ed",
   "metadata": {},
   "source": [
    "# Probability of each predicted class"
   ]
  },
  {
   "cell_type": "code",
   "execution_count": 42,
   "id": "93dea7eb",
   "metadata": {},
   "outputs": [
    {
     "data": {
      "text/plain": [
       "array([[0.57611081, 0.42388919],\n",
       "       [0.90906577, 0.09093423],\n",
       "       [0.67315282, 0.32684718],\n",
       "       [0.3981702 , 0.6018298 ],\n",
       "       [0.83353778, 0.16646222],\n",
       "       [0.8225342 , 0.1774658 ],\n",
       "       [0.67343296, 0.32656704],\n",
       "       [0.34050344, 0.65949656],\n",
       "       [0.3843026 , 0.6156974 ],\n",
       "       [0.68867017, 0.31132983],\n",
       "       [0.82303951, 0.17696049],\n",
       "       [0.8701324 , 0.1298676 ],\n",
       "       [0.42972565, 0.57027435],\n",
       "       [0.73042875, 0.26957125],\n",
       "       [0.73321682, 0.26678318],\n",
       "       [0.80751951, 0.19248049],\n",
       "       [0.44379129, 0.55620871],\n",
       "       [0.17096691, 0.82903309],\n",
       "       [0.31705838, 0.68294162],\n",
       "       [0.51172086, 0.48827914],\n",
       "       [0.84332429, 0.15667571],\n",
       "       [0.45307062, 0.54692938],\n",
       "       [0.20223418, 0.79776582],\n",
       "       [0.67194616, 0.32805384],\n",
       "       [0.95033548, 0.04966452],\n",
       "       [0.76492979, 0.23507021],\n",
       "       [0.85959686, 0.14040314],\n",
       "       [0.73672391, 0.26327609],\n",
       "       [0.25090418, 0.74909582],\n",
       "       [0.88236089, 0.11763911],\n",
       "       [0.23757588, 0.76242412],\n",
       "       [0.66128812, 0.33871188],\n",
       "       [0.77033019, 0.22966981],\n",
       "       [0.79865291, 0.20134709],\n",
       "       [0.70759374, 0.29240626],\n",
       "       [0.37676385, 0.62323615],\n",
       "       [0.93570863, 0.06429137],\n",
       "       [0.17429719, 0.82570281],\n",
       "       [0.84313483, 0.15686517],\n",
       "       [0.86402607, 0.13597393],\n",
       "       [0.8322979 , 0.1677021 ],\n",
       "       [0.18971428, 0.81028572],\n",
       "       [0.52122803, 0.47877197],\n",
       "       [0.65632149, 0.34367851],\n",
       "       [0.67047867, 0.32952133],\n",
       "       [0.32534825, 0.67465175],\n",
       "       [0.78738676, 0.21261324],\n",
       "       [0.90148832, 0.09851168],\n",
       "       [0.85358206, 0.14641794],\n",
       "       [0.60499837, 0.39500163],\n",
       "       [0.93831596, 0.06168404],\n",
       "       [0.63137753, 0.36862247],\n",
       "       [0.46254792, 0.53745208],\n",
       "       [0.71520925, 0.28479075],\n",
       "       [0.9645552 , 0.0354448 ],\n",
       "       [0.68027566, 0.31972434],\n",
       "       [0.85777646, 0.14222354],\n",
       "       [0.71217146, 0.28782854],\n",
       "       [0.87664254, 0.12335746],\n",
       "       [0.57652527, 0.42347473],\n",
       "       [0.69084843, 0.30915157],\n",
       "       [0.65454714, 0.34545286],\n",
       "       [0.90493294, 0.09506706],\n",
       "       [0.79994006, 0.20005994],\n",
       "       [0.85030509, 0.14969491],\n",
       "       [0.08184629, 0.91815371],\n",
       "       [0.79605884, 0.20394116],\n",
       "       [0.82025078, 0.17974922],\n",
       "       [0.89275612, 0.10724388],\n",
       "       [0.89435413, 0.10564587],\n",
       "       [0.84618403, 0.15381597],\n",
       "       [0.30372805, 0.69627195],\n",
       "       [0.76213064, 0.23786936],\n",
       "       [0.81949943, 0.18050057],\n",
       "       [0.61574326, 0.38425674],\n",
       "       [0.23873854, 0.76126146],\n",
       "       [0.44872424, 0.55127576],\n",
       "       [0.79954315, 0.20045685],\n",
       "       [0.66512663, 0.33487337],\n",
       "       [0.9295699 , 0.0704301 ],\n",
       "       [0.73009622, 0.26990378],\n",
       "       [0.44156573, 0.55843427],\n",
       "       [0.87594046, 0.12405954],\n",
       "       [0.91582255, 0.08417745],\n",
       "       [0.80908464, 0.19091536],\n",
       "       [0.84507648, 0.15492352],\n",
       "       [0.83883926, 0.16116074],\n",
       "       [0.77244335, 0.22755665],\n",
       "       [0.65465424, 0.34534576],\n",
       "       [0.34253744, 0.65746256],\n",
       "       [0.27164001, 0.72835999],\n",
       "       [0.68882222, 0.31117778],\n",
       "       [0.82704893, 0.17295107],\n",
       "       [0.47535426, 0.52464574],\n",
       "       [0.80959209, 0.19040791],\n",
       "       [0.90239379, 0.09760621],\n",
       "       [0.3756155 , 0.6243845 ],\n",
       "       [0.57149296, 0.42850704],\n",
       "       [0.78913932, 0.21086068],\n",
       "       [0.88820534, 0.11179466],\n",
       "       [0.61045644, 0.38954356],\n",
       "       [0.6702638 , 0.3297362 ],\n",
       "       [0.79332762, 0.20667238],\n",
       "       [0.78327703, 0.21672297],\n",
       "       [0.74894929, 0.25105071],\n",
       "       [0.45234566, 0.54765434],\n",
       "       [0.298927  , 0.701073  ],\n",
       "       [0.8356922 , 0.1643078 ],\n",
       "       [0.8323882 , 0.1676118 ],\n",
       "       [0.71773104, 0.28226896],\n",
       "       [0.22543561, 0.77456439],\n",
       "       [0.92378718, 0.07621282],\n",
       "       [0.76802275, 0.23197725],\n",
       "       [0.85714192, 0.14285808],\n",
       "       [0.60934535, 0.39065465],\n",
       "       [0.51961627, 0.48038373],\n",
       "       [0.85928356, 0.14071644],\n",
       "       [0.74533576, 0.25466424],\n",
       "       [0.80478553, 0.19521447],\n",
       "       [0.67192187, 0.32807813],\n",
       "       [0.25905808, 0.74094192],\n",
       "       [0.36577262, 0.63422738],\n",
       "       [0.83792398, 0.16207602],\n",
       "       [0.25602605, 0.74397395],\n",
       "       [0.48474751, 0.51525249],\n",
       "       [0.30872173, 0.69127827],\n",
       "       [0.75195427, 0.24804573],\n",
       "       [0.27715552, 0.72284448],\n",
       "       [0.72026987, 0.27973013],\n",
       "       [0.84575691, 0.15424309],\n",
       "       [0.51320247, 0.48679753],\n",
       "       [0.85949152, 0.14050848],\n",
       "       [0.37020583, 0.62979417],\n",
       "       [0.21066566, 0.78933434],\n",
       "       [0.57931145, 0.42068855],\n",
       "       [0.75927393, 0.24072607],\n",
       "       [0.76857348, 0.23142652],\n",
       "       [0.44384959, 0.55615041],\n",
       "       [0.81776319, 0.18223681],\n",
       "       [0.94971253, 0.05028747],\n",
       "       [0.72630501, 0.27369499],\n",
       "       [0.8748355 , 0.1251645 ],\n",
       "       [0.7413404 , 0.2586596 ],\n",
       "       [0.80825195, 0.19174805],\n",
       "       [0.79650037, 0.20349963],\n",
       "       [0.86442313, 0.13557687],\n",
       "       [0.55246086, 0.44753914],\n",
       "       [0.91094205, 0.08905795],\n",
       "       [0.95773428, 0.04226572],\n",
       "       [0.83243708, 0.16756292],\n",
       "       [0.86427597, 0.13572403],\n",
       "       [0.15864309, 0.84135691],\n",
       "       [0.86736718, 0.13263282],\n",
       "       [0.61836795, 0.38163205],\n",
       "       [0.86544356, 0.13455644],\n",
       "       [0.86555951, 0.13444049],\n",
       "       [0.70964692, 0.29035308],\n",
       "       [0.3878051 , 0.6121949 ],\n",
       "       [0.76847472, 0.23152528],\n",
       "       [0.33178526, 0.66821474],\n",
       "       [0.63366206, 0.36633794],\n",
       "       [0.57832899, 0.42167101],\n",
       "       [0.7931975 , 0.2068025 ],\n",
       "       [0.80262688, 0.19737312],\n",
       "       [0.68961024, 0.31038976],\n",
       "       [0.41105442, 0.58894558],\n",
       "       [0.44304419, 0.55695581],\n",
       "       [0.67931158, 0.32068842],\n",
       "       [0.73265726, 0.26734274],\n",
       "       [0.34385219, 0.65614781],\n",
       "       [0.57368901, 0.42631099],\n",
       "       [0.29253153, 0.70746847],\n",
       "       [0.8389664 , 0.1610336 ],\n",
       "       [0.81011093, 0.18988907],\n",
       "       [0.45779933, 0.54220067],\n",
       "       [0.46343546, 0.53656454],\n",
       "       [0.3383089 , 0.6616911 ],\n",
       "       [0.53217941, 0.46782059],\n",
       "       [0.94244629, 0.05755371],\n",
       "       [0.74123429, 0.25876571],\n",
       "       [0.84258438, 0.15741562],\n",
       "       [0.76455887, 0.23544113],\n",
       "       [0.83421337, 0.16578663],\n",
       "       [0.93146281, 0.06853719],\n",
       "       [0.49631995, 0.50368005],\n",
       "       [0.64265884, 0.35734116],\n",
       "       [0.89812523, 0.10187477],\n",
       "       [0.67623397, 0.32376603],\n",
       "       [0.14820843, 0.85179157],\n",
       "       [0.42615479, 0.57384521],\n",
       "       [0.38274464, 0.61725536],\n",
       "       [0.57126332, 0.42873668],\n",
       "       [0.77383062, 0.22616938],\n",
       "       [0.74172706, 0.25827294],\n",
       "       [0.60429994, 0.39570006],\n",
       "       [0.92095082, 0.07904918],\n",
       "       [0.62040104, 0.37959896],\n",
       "       [0.60773435, 0.39226565],\n",
       "       [0.42291848, 0.57708152],\n",
       "       [0.37000801, 0.62999199],\n",
       "       [0.2736392 , 0.7263608 ],\n",
       "       [0.82766464, 0.17233536],\n",
       "       [0.69260373, 0.30739627],\n",
       "       [0.61649955, 0.38350045],\n",
       "       [0.36090111, 0.63909889],\n",
       "       [0.44981684, 0.55018316],\n",
       "       [0.83065322, 0.16934678],\n",
       "       [0.89987711, 0.10012289],\n",
       "       [0.29352445, 0.70647555],\n",
       "       [0.5613007 , 0.4386993 ],\n",
       "       [0.47868775, 0.52131225],\n",
       "       [0.80407924, 0.19592076],\n",
       "       [0.40885538, 0.59114462],\n",
       "       [0.78752475, 0.21247525],\n",
       "       [0.52156159, 0.47843841],\n",
       "       [0.57715022, 0.42284978],\n",
       "       [0.82339135, 0.17660865],\n",
       "       [0.63746543, 0.36253457],\n",
       "       [0.73376583, 0.26623417],\n",
       "       [0.86315679, 0.13684321],\n",
       "       [0.80171579, 0.19828421],\n",
       "       [0.8200854 , 0.1799146 ],\n",
       "       [0.65894081, 0.34105919],\n",
       "       [0.7795263 , 0.2204737 ],\n",
       "       [0.78398107, 0.21601893],\n",
       "       [0.70232165, 0.29767835],\n",
       "       [0.86912969, 0.13087031],\n",
       "       [0.54886736, 0.45113264],\n",
       "       [0.35831347, 0.64168653],\n",
       "       [0.385546  , 0.614454  ],\n",
       "       [0.64049792, 0.35950208]])"
      ]
     },
     "execution_count": 42,
     "metadata": {},
     "output_type": "execute_result"
    }
   ],
   "source": [
    "lr.predict_proba(x_test)"
   ]
  },
  {
   "cell_type": "markdown",
   "id": "1beca51e",
   "metadata": {},
   "source": [
    "# Model Evaluation"
   ]
  },
  {
   "cell_type": "code",
   "execution_count": 43,
   "id": "17bca37b",
   "metadata": {},
   "outputs": [],
   "source": [
    "from sklearn.metrics import confusion_matrix,classification_report"
   ]
  },
  {
   "cell_type": "code",
   "execution_count": 44,
   "id": "e2b46fe0",
   "metadata": {},
   "outputs": [
    {
     "name": "stdout",
     "output_type": "stream",
     "text": [
      "[[132  15]\n",
      " [ 38  46]]\n"
     ]
    }
   ],
   "source": [
    "print(confusion_matrix(y_test,y_pred))"
   ]
  },
  {
   "cell_type": "code",
   "execution_count": 45,
   "id": "e636ae21",
   "metadata": {},
   "outputs": [
    {
     "name": "stdout",
     "output_type": "stream",
     "text": [
      "              precision    recall  f1-score   support\n",
      "\n",
      "           0       0.78      0.90      0.83       147\n",
      "           1       0.75      0.55      0.63        84\n",
      "\n",
      "    accuracy                           0.77       231\n",
      "   macro avg       0.77      0.72      0.73       231\n",
      "weighted avg       0.77      0.77      0.76       231\n",
      "\n"
     ]
    }
   ],
   "source": [
    "print(classification_report(y_test,y_pred))"
   ]
  },
  {
   "cell_type": "markdown",
   "id": "182563f9",
   "metadata": {},
   "source": [
    "# Get Future Predictions"
   ]
  },
  {
   "cell_type": "code",
   "execution_count": 48,
   "id": "8bd301d6",
   "metadata": {},
   "outputs": [],
   "source": [
    "x_new=df.sample(1)"
   ]
  },
  {
   "cell_type": "code",
   "execution_count": 50,
   "id": "b74d49f4",
   "metadata": {},
   "outputs": [
    {
     "data": {
      "text/html": [
       "<div>\n",
       "<style scoped>\n",
       "    .dataframe tbody tr th:only-of-type {\n",
       "        vertical-align: middle;\n",
       "    }\n",
       "\n",
       "    .dataframe tbody tr th {\n",
       "        vertical-align: top;\n",
       "    }\n",
       "\n",
       "    .dataframe thead th {\n",
       "        text-align: right;\n",
       "    }\n",
       "</style>\n",
       "<table border=\"1\" class=\"dataframe\">\n",
       "  <thead>\n",
       "    <tr style=\"text-align: right;\">\n",
       "      <th></th>\n",
       "      <th>pregnancies</th>\n",
       "      <th>glucose</th>\n",
       "      <th>diastolic</th>\n",
       "      <th>triceps</th>\n",
       "      <th>insulin</th>\n",
       "      <th>bmi</th>\n",
       "      <th>dpf</th>\n",
       "      <th>age</th>\n",
       "      <th>diabetes</th>\n",
       "    </tr>\n",
       "  </thead>\n",
       "  <tbody>\n",
       "    <tr>\n",
       "      <th>667</th>\n",
       "      <td>10</td>\n",
       "      <td>111</td>\n",
       "      <td>70</td>\n",
       "      <td>27</td>\n",
       "      <td>0</td>\n",
       "      <td>27.5</td>\n",
       "      <td>0.141</td>\n",
       "      <td>40</td>\n",
       "      <td>1</td>\n",
       "    </tr>\n",
       "  </tbody>\n",
       "</table>\n",
       "</div>"
      ],
      "text/plain": [
       "     pregnancies  glucose  diastolic  triceps  insulin   bmi    dpf  age  \\\n",
       "667           10      111         70       27        0  27.5  0.141   40   \n",
       "\n",
       "     diabetes  \n",
       "667         1  "
      ]
     },
     "execution_count": 50,
     "metadata": {},
     "output_type": "execute_result"
    }
   ],
   "source": [
    "x_new"
   ]
  },
  {
   "cell_type": "code",
   "execution_count": 51,
   "id": "5be10513",
   "metadata": {},
   "outputs": [
    {
     "data": {
      "text/plain": [
       "(1, 9)"
      ]
     },
     "execution_count": 51,
     "metadata": {},
     "output_type": "execute_result"
    }
   ],
   "source": [
    "x_new.shape"
   ]
  },
  {
   "cell_type": "code",
   "execution_count": 52,
   "id": "ab6e1118",
   "metadata": {},
   "outputs": [],
   "source": [
    "x_new=x_new.drop('diabetes',axis=1)"
   ]
  },
  {
   "cell_type": "code",
   "execution_count": 53,
   "id": "9f3598b1",
   "metadata": {},
   "outputs": [],
   "source": [
    "x_new=mm.fit_transform(x_new)"
   ]
  },
  {
   "cell_type": "code",
   "execution_count": 54,
   "id": "d97bc8dd",
   "metadata": {},
   "outputs": [],
   "source": [
    "y_pred_new=lr.predict(x_new)"
   ]
  },
  {
   "cell_type": "code",
   "execution_count": 55,
   "id": "aad66239",
   "metadata": {},
   "outputs": [
    {
     "data": {
      "text/plain": [
       "array([0], dtype=int64)"
      ]
     },
     "execution_count": 55,
     "metadata": {},
     "output_type": "execute_result"
    }
   ],
   "source": [
    "y_pred_new"
   ]
  },
  {
   "cell_type": "code",
   "execution_count": 56,
   "id": "77ba3a4f",
   "metadata": {},
   "outputs": [
    {
     "data": {
      "text/plain": [
       "array([[0.99486094, 0.00513906]])"
      ]
     },
     "execution_count": 56,
     "metadata": {},
     "output_type": "execute_result"
    }
   ],
   "source": [
    "lr.predict_proba(x_new)"
   ]
  },
  {
   "cell_type": "code",
   "execution_count": null,
   "id": "41a62a24",
   "metadata": {},
   "outputs": [],
   "source": []
  }
 ],
 "metadata": {
  "kernelspec": {
   "display_name": "Python 3 (ipykernel)",
   "language": "python",
   "name": "python3"
  },
  "language_info": {
   "codemirror_mode": {
    "name": "ipython",
    "version": 3
   },
   "file_extension": ".py",
   "mimetype": "text/x-python",
   "name": "python",
   "nbconvert_exporter": "python",
   "pygments_lexer": "ipython3",
   "version": "3.9.7"
  }
 },
 "nbformat": 4,
 "nbformat_minor": 5
}
