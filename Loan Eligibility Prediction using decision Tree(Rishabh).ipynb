{
 "cells": [
  {
   "cell_type": "code",
   "execution_count": 2,
   "id": "a09f0f51",
   "metadata": {},
   "outputs": [],
   "source": [
    "import pandas as pd"
   ]
  },
  {
   "cell_type": "code",
   "execution_count": 4,
   "id": "029ab83f",
   "metadata": {},
   "outputs": [],
   "source": [
    "import numpy as np"
   ]
  },
  {
   "cell_type": "code",
   "execution_count": 6,
   "id": "df65fcae",
   "metadata": {},
   "outputs": [],
   "source": [
    "df=pd.read_csv(r'https://github.com/YBI-Foundation/Dataset/raw/main/Loan%20Eligibility%20Prediction.csv')"
   ]
  },
  {
   "cell_type": "code",
   "execution_count": 7,
   "id": "68986cab",
   "metadata": {},
   "outputs": [
    {
     "data": {
      "text/html": [
       "<div>\n",
       "<style scoped>\n",
       "    .dataframe tbody tr th:only-of-type {\n",
       "        vertical-align: middle;\n",
       "    }\n",
       "\n",
       "    .dataframe tbody tr th {\n",
       "        vertical-align: top;\n",
       "    }\n",
       "\n",
       "    .dataframe thead th {\n",
       "        text-align: right;\n",
       "    }\n",
       "</style>\n",
       "<table border=\"1\" class=\"dataframe\">\n",
       "  <thead>\n",
       "    <tr style=\"text-align: right;\">\n",
       "      <th></th>\n",
       "      <th>Customer_ID</th>\n",
       "      <th>Gender</th>\n",
       "      <th>Married</th>\n",
       "      <th>Dependents</th>\n",
       "      <th>Education</th>\n",
       "      <th>Self_Employed</th>\n",
       "      <th>Applicant_Income</th>\n",
       "      <th>Coapplicant_Income</th>\n",
       "      <th>Loan_Amount</th>\n",
       "      <th>Loan_Amount_Term</th>\n",
       "      <th>Credit_History</th>\n",
       "      <th>Property_Area</th>\n",
       "      <th>Loan_Status</th>\n",
       "    </tr>\n",
       "  </thead>\n",
       "  <tbody>\n",
       "    <tr>\n",
       "      <th>0</th>\n",
       "      <td>569</td>\n",
       "      <td>Female</td>\n",
       "      <td>No</td>\n",
       "      <td>0</td>\n",
       "      <td>Graduate</td>\n",
       "      <td>No</td>\n",
       "      <td>2378</td>\n",
       "      <td>0.0</td>\n",
       "      <td>9</td>\n",
       "      <td>360</td>\n",
       "      <td>1</td>\n",
       "      <td>Urban</td>\n",
       "      <td>N</td>\n",
       "    </tr>\n",
       "    <tr>\n",
       "      <th>1</th>\n",
       "      <td>15</td>\n",
       "      <td>Male</td>\n",
       "      <td>Yes</td>\n",
       "      <td>2</td>\n",
       "      <td>Graduate</td>\n",
       "      <td>No</td>\n",
       "      <td>1299</td>\n",
       "      <td>1086.0</td>\n",
       "      <td>17</td>\n",
       "      <td>120</td>\n",
       "      <td>1</td>\n",
       "      <td>Urban</td>\n",
       "      <td>Y</td>\n",
       "    </tr>\n",
       "    <tr>\n",
       "      <th>2</th>\n",
       "      <td>95</td>\n",
       "      <td>Male</td>\n",
       "      <td>No</td>\n",
       "      <td>0</td>\n",
       "      <td>Not Graduate</td>\n",
       "      <td>No</td>\n",
       "      <td>3620</td>\n",
       "      <td>0.0</td>\n",
       "      <td>25</td>\n",
       "      <td>120</td>\n",
       "      <td>1</td>\n",
       "      <td>Semiurban</td>\n",
       "      <td>Y</td>\n",
       "    </tr>\n",
       "    <tr>\n",
       "      <th>3</th>\n",
       "      <td>134</td>\n",
       "      <td>Male</td>\n",
       "      <td>Yes</td>\n",
       "      <td>0</td>\n",
       "      <td>Graduate</td>\n",
       "      <td>Yes</td>\n",
       "      <td>3459</td>\n",
       "      <td>0.0</td>\n",
       "      <td>25</td>\n",
       "      <td>120</td>\n",
       "      <td>1</td>\n",
       "      <td>Semiurban</td>\n",
       "      <td>Y</td>\n",
       "    </tr>\n",
       "    <tr>\n",
       "      <th>4</th>\n",
       "      <td>556</td>\n",
       "      <td>Male</td>\n",
       "      <td>Yes</td>\n",
       "      <td>1</td>\n",
       "      <td>Graduate</td>\n",
       "      <td>No</td>\n",
       "      <td>5468</td>\n",
       "      <td>1032.0</td>\n",
       "      <td>26</td>\n",
       "      <td>360</td>\n",
       "      <td>1</td>\n",
       "      <td>Semiurban</td>\n",
       "      <td>Y</td>\n",
       "    </tr>\n",
       "  </tbody>\n",
       "</table>\n",
       "</div>"
      ],
      "text/plain": [
       "   Customer_ID  Gender Married  Dependents     Education Self_Employed  \\\n",
       "0          569  Female      No           0      Graduate            No   \n",
       "1           15    Male     Yes           2      Graduate            No   \n",
       "2           95    Male      No           0  Not Graduate            No   \n",
       "3          134    Male     Yes           0      Graduate           Yes   \n",
       "4          556    Male     Yes           1      Graduate            No   \n",
       "\n",
       "   Applicant_Income  Coapplicant_Income  Loan_Amount  Loan_Amount_Term  \\\n",
       "0              2378                 0.0            9               360   \n",
       "1              1299              1086.0           17               120   \n",
       "2              3620                 0.0           25               120   \n",
       "3              3459                 0.0           25               120   \n",
       "4              5468              1032.0           26               360   \n",
       "\n",
       "   Credit_History Property_Area Loan_Status  \n",
       "0               1         Urban           N  \n",
       "1               1         Urban           Y  \n",
       "2               1     Semiurban           Y  \n",
       "3               1     Semiurban           Y  \n",
       "4               1     Semiurban           Y  "
      ]
     },
     "execution_count": 7,
     "metadata": {},
     "output_type": "execute_result"
    }
   ],
   "source": [
    "df.head()"
   ]
  },
  {
   "cell_type": "code",
   "execution_count": 8,
   "id": "e1bc6133",
   "metadata": {},
   "outputs": [
    {
     "name": "stdout",
     "output_type": "stream",
     "text": [
      "<class 'pandas.core.frame.DataFrame'>\n",
      "RangeIndex: 614 entries, 0 to 613\n",
      "Data columns (total 13 columns):\n",
      " #   Column              Non-Null Count  Dtype  \n",
      "---  ------              --------------  -----  \n",
      " 0   Customer_ID         614 non-null    int64  \n",
      " 1   Gender              614 non-null    object \n",
      " 2   Married             614 non-null    object \n",
      " 3   Dependents          614 non-null    int64  \n",
      " 4   Education           614 non-null    object \n",
      " 5   Self_Employed       614 non-null    object \n",
      " 6   Applicant_Income    614 non-null    int64  \n",
      " 7   Coapplicant_Income  614 non-null    float64\n",
      " 8   Loan_Amount         614 non-null    int64  \n",
      " 9   Loan_Amount_Term    614 non-null    int64  \n",
      " 10  Credit_History      614 non-null    int64  \n",
      " 11  Property_Area       614 non-null    object \n",
      " 12  Loan_Status         614 non-null    object \n",
      "dtypes: float64(1), int64(6), object(6)\n",
      "memory usage: 62.5+ KB\n"
     ]
    }
   ],
   "source": [
    "df.info()"
   ]
  },
  {
   "cell_type": "code",
   "execution_count": 10,
   "id": "c6ab5729",
   "metadata": {},
   "outputs": [
    {
     "data": {
      "text/html": [
       "<div>\n",
       "<style scoped>\n",
       "    .dataframe tbody tr th:only-of-type {\n",
       "        vertical-align: middle;\n",
       "    }\n",
       "\n",
       "    .dataframe tbody tr th {\n",
       "        vertical-align: top;\n",
       "    }\n",
       "\n",
       "    .dataframe thead th {\n",
       "        text-align: right;\n",
       "    }\n",
       "</style>\n",
       "<table border=\"1\" class=\"dataframe\">\n",
       "  <thead>\n",
       "    <tr style=\"text-align: right;\">\n",
       "      <th></th>\n",
       "      <th>Customer_ID</th>\n",
       "      <th>Dependents</th>\n",
       "      <th>Applicant_Income</th>\n",
       "      <th>Coapplicant_Income</th>\n",
       "      <th>Loan_Amount</th>\n",
       "      <th>Loan_Amount_Term</th>\n",
       "      <th>Credit_History</th>\n",
       "    </tr>\n",
       "  </thead>\n",
       "  <tbody>\n",
       "    <tr>\n",
       "      <th>count</th>\n",
       "      <td>614.000000</td>\n",
       "      <td>614.000000</td>\n",
       "      <td>614.000000</td>\n",
       "      <td>614.000000</td>\n",
       "      <td>614.000000</td>\n",
       "      <td>614.000000</td>\n",
       "      <td>614.000000</td>\n",
       "    </tr>\n",
       "    <tr>\n",
       "      <th>mean</th>\n",
       "      <td>307.500000</td>\n",
       "      <td>0.856678</td>\n",
       "      <td>5403.459283</td>\n",
       "      <td>1621.245798</td>\n",
       "      <td>142.022801</td>\n",
       "      <td>338.892508</td>\n",
       "      <td>0.850163</td>\n",
       "    </tr>\n",
       "    <tr>\n",
       "      <th>std</th>\n",
       "      <td>177.390811</td>\n",
       "      <td>1.216651</td>\n",
       "      <td>6109.041673</td>\n",
       "      <td>2926.248369</td>\n",
       "      <td>87.083089</td>\n",
       "      <td>69.716355</td>\n",
       "      <td>0.357203</td>\n",
       "    </tr>\n",
       "    <tr>\n",
       "      <th>min</th>\n",
       "      <td>1.000000</td>\n",
       "      <td>0.000000</td>\n",
       "      <td>150.000000</td>\n",
       "      <td>0.000000</td>\n",
       "      <td>9.000000</td>\n",
       "      <td>12.000000</td>\n",
       "      <td>0.000000</td>\n",
       "    </tr>\n",
       "    <tr>\n",
       "      <th>25%</th>\n",
       "      <td>154.250000</td>\n",
       "      <td>0.000000</td>\n",
       "      <td>2877.500000</td>\n",
       "      <td>0.000000</td>\n",
       "      <td>98.000000</td>\n",
       "      <td>360.000000</td>\n",
       "      <td>1.000000</td>\n",
       "    </tr>\n",
       "    <tr>\n",
       "      <th>50%</th>\n",
       "      <td>307.500000</td>\n",
       "      <td>0.000000</td>\n",
       "      <td>3812.500000</td>\n",
       "      <td>1188.500000</td>\n",
       "      <td>125.000000</td>\n",
       "      <td>360.000000</td>\n",
       "      <td>1.000000</td>\n",
       "    </tr>\n",
       "    <tr>\n",
       "      <th>75%</th>\n",
       "      <td>460.750000</td>\n",
       "      <td>2.000000</td>\n",
       "      <td>5795.000000</td>\n",
       "      <td>2297.250000</td>\n",
       "      <td>164.750000</td>\n",
       "      <td>360.000000</td>\n",
       "      <td>1.000000</td>\n",
       "    </tr>\n",
       "    <tr>\n",
       "      <th>max</th>\n",
       "      <td>614.000000</td>\n",
       "      <td>4.000000</td>\n",
       "      <td>81000.000000</td>\n",
       "      <td>41667.000000</td>\n",
       "      <td>700.000000</td>\n",
       "      <td>480.000000</td>\n",
       "      <td>1.000000</td>\n",
       "    </tr>\n",
       "  </tbody>\n",
       "</table>\n",
       "</div>"
      ],
      "text/plain": [
       "       Customer_ID  Dependents  Applicant_Income  Coapplicant_Income  \\\n",
       "count   614.000000  614.000000        614.000000          614.000000   \n",
       "mean    307.500000    0.856678       5403.459283         1621.245798   \n",
       "std     177.390811    1.216651       6109.041673         2926.248369   \n",
       "min       1.000000    0.000000        150.000000            0.000000   \n",
       "25%     154.250000    0.000000       2877.500000            0.000000   \n",
       "50%     307.500000    0.000000       3812.500000         1188.500000   \n",
       "75%     460.750000    2.000000       5795.000000         2297.250000   \n",
       "max     614.000000    4.000000      81000.000000        41667.000000   \n",
       "\n",
       "       Loan_Amount  Loan_Amount_Term  Credit_History  \n",
       "count   614.000000        614.000000      614.000000  \n",
       "mean    142.022801        338.892508        0.850163  \n",
       "std      87.083089         69.716355        0.357203  \n",
       "min       9.000000         12.000000        0.000000  \n",
       "25%      98.000000        360.000000        1.000000  \n",
       "50%     125.000000        360.000000        1.000000  \n",
       "75%     164.750000        360.000000        1.000000  \n",
       "max     700.000000        480.000000        1.000000  "
      ]
     },
     "execution_count": 10,
     "metadata": {},
     "output_type": "execute_result"
    }
   ],
   "source": [
    "df.describe()"
   ]
  },
  {
   "cell_type": "code",
   "execution_count": 11,
   "id": "5c13cb24",
   "metadata": {},
   "outputs": [
    {
     "data": {
      "text/plain": [
       "Index(['Customer_ID', 'Gender', 'Married', 'Dependents', 'Education',\n",
       "       'Self_Employed', 'Applicant_Income', 'Coapplicant_Income',\n",
       "       'Loan_Amount', 'Loan_Amount_Term', 'Credit_History', 'Property_Area',\n",
       "       'Loan_Status'],\n",
       "      dtype='object')"
      ]
     },
     "execution_count": 11,
     "metadata": {},
     "output_type": "execute_result"
    }
   ],
   "source": [
    "df.columns"
   ]
  },
  {
   "cell_type": "code",
   "execution_count": 12,
   "id": "30ee33a0",
   "metadata": {},
   "outputs": [
    {
     "data": {
      "text/plain": [
       "(614, 13)"
      ]
     },
     "execution_count": 12,
     "metadata": {},
     "output_type": "execute_result"
    }
   ],
   "source": [
    "df.shape"
   ]
  },
  {
   "cell_type": "code",
   "execution_count": 13,
   "id": "3ae875fc",
   "metadata": {},
   "outputs": [
    {
     "data": {
      "text/plain": [
       "Male      499\n",
       "Female    115\n",
       "Name: Gender, dtype: int64"
      ]
     },
     "execution_count": 13,
     "metadata": {},
     "output_type": "execute_result"
    }
   ],
   "source": [
    "df['Gender'].value_counts()"
   ]
  },
  {
   "cell_type": "code",
   "execution_count": 15,
   "id": "e797dfb4",
   "metadata": {},
   "outputs": [
    {
     "data": {
      "text/plain": [
       "Yes    399\n",
       "No     215\n",
       "Name: Married, dtype: int64"
      ]
     },
     "execution_count": 15,
     "metadata": {},
     "output_type": "execute_result"
    }
   ],
   "source": [
    "df['Married'].value_counts()"
   ]
  },
  {
   "cell_type": "code",
   "execution_count": 16,
   "id": "99aed625",
   "metadata": {},
   "outputs": [
    {
     "data": {
      "text/plain": [
       "Graduate        480\n",
       "Not Graduate    134\n",
       "Name: Education, dtype: int64"
      ]
     },
     "execution_count": 16,
     "metadata": {},
     "output_type": "execute_result"
    }
   ],
   "source": [
    "df['Education'].value_counts()"
   ]
  },
  {
   "cell_type": "code",
   "execution_count": 17,
   "id": "210761bc",
   "metadata": {},
   "outputs": [
    {
     "data": {
      "text/plain": [
       "No     523\n",
       "Yes     91\n",
       "Name: Self_Employed, dtype: int64"
      ]
     },
     "execution_count": 17,
     "metadata": {},
     "output_type": "execute_result"
    }
   ],
   "source": [
    "df['Self_Employed'].value_counts()"
   ]
  },
  {
   "cell_type": "code",
   "execution_count": 18,
   "id": "a0eb1165",
   "metadata": {},
   "outputs": [
    {
     "data": {
      "text/plain": [
       "Semiurban    233\n",
       "Urban        202\n",
       "Rural        179\n",
       "Name: Property_Area, dtype: int64"
      ]
     },
     "execution_count": 18,
     "metadata": {},
     "output_type": "execute_result"
    }
   ],
   "source": [
    "df['Property_Area'].value_counts()"
   ]
  },
  {
   "cell_type": "markdown",
   "id": "2f0effd4",
   "metadata": {},
   "source": [
    "# Encoding"
   ]
  },
  {
   "cell_type": "code",
   "execution_count": 20,
   "id": "7fffd324",
   "metadata": {},
   "outputs": [],
   "source": [
    "df.replace({'Gender':{'Male':0,'Female':1}},inplace=True)"
   ]
  },
  {
   "cell_type": "code",
   "execution_count": 21,
   "id": "27053939",
   "metadata": {},
   "outputs": [],
   "source": [
    "df.replace({'Married':{'No':0,'Yes':1}},inplace=True)"
   ]
  },
  {
   "cell_type": "code",
   "execution_count": 22,
   "id": "3fede30c",
   "metadata": {},
   "outputs": [],
   "source": [
    "df.replace({'Education':{'Not Graduate':0,'Graduate':1}},inplace=True)"
   ]
  },
  {
   "cell_type": "code",
   "execution_count": 23,
   "id": "6e71f866",
   "metadata": {},
   "outputs": [],
   "source": [
    "df.replace({'Self_Employed':{'No':0,'Yes':1}},inplace=True)"
   ]
  },
  {
   "cell_type": "code",
   "execution_count": 24,
   "id": "8e78c9c5",
   "metadata": {},
   "outputs": [],
   "source": [
    "df.replace({'Property_Area':{'Rural':0,'Semiurban':1,'Urban':2}},inplace=True)"
   ]
  },
  {
   "cell_type": "markdown",
   "id": "555ab02d",
   "metadata": {},
   "source": [
    "# Define X and Y"
   ]
  },
  {
   "cell_type": "code",
   "execution_count": 25,
   "id": "64a57681",
   "metadata": {},
   "outputs": [],
   "source": [
    "y=df['Loan_Status']"
   ]
  },
  {
   "cell_type": "code",
   "execution_count": 26,
   "id": "cffdbf60",
   "metadata": {},
   "outputs": [
    {
     "data": {
      "text/plain": [
       "(614,)"
      ]
     },
     "execution_count": 26,
     "metadata": {},
     "output_type": "execute_result"
    }
   ],
   "source": [
    "y.shape"
   ]
  },
  {
   "cell_type": "code",
   "execution_count": 28,
   "id": "cb34f11f",
   "metadata": {},
   "outputs": [
    {
     "data": {
      "text/plain": [
       "0      N\n",
       "1      Y\n",
       "2      Y\n",
       "3      Y\n",
       "4      Y\n",
       "      ..\n",
       "609    N\n",
       "610    N\n",
       "611    N\n",
       "612    Y\n",
       "613    N\n",
       "Name: Loan_Status, Length: 614, dtype: object"
      ]
     },
     "execution_count": 28,
     "metadata": {},
     "output_type": "execute_result"
    }
   ],
   "source": [
    "y"
   ]
  },
  {
   "cell_type": "code",
   "execution_count": 30,
   "id": "9fe309e1",
   "metadata": {},
   "outputs": [],
   "source": [
    "x=df.drop(['Customer_ID','Loan_Status'],axis=1)"
   ]
  },
  {
   "cell_type": "code",
   "execution_count": 31,
   "id": "7324d7e0",
   "metadata": {},
   "outputs": [
    {
     "data": {
      "text/plain": [
       "(614, 11)"
      ]
     },
     "execution_count": 31,
     "metadata": {},
     "output_type": "execute_result"
    }
   ],
   "source": [
    "x.shape"
   ]
  },
  {
   "cell_type": "code",
   "execution_count": 32,
   "id": "093c056e",
   "metadata": {},
   "outputs": [
    {
     "data": {
      "text/html": [
       "<div>\n",
       "<style scoped>\n",
       "    .dataframe tbody tr th:only-of-type {\n",
       "        vertical-align: middle;\n",
       "    }\n",
       "\n",
       "    .dataframe tbody tr th {\n",
       "        vertical-align: top;\n",
       "    }\n",
       "\n",
       "    .dataframe thead th {\n",
       "        text-align: right;\n",
       "    }\n",
       "</style>\n",
       "<table border=\"1\" class=\"dataframe\">\n",
       "  <thead>\n",
       "    <tr style=\"text-align: right;\">\n",
       "      <th></th>\n",
       "      <th>Gender</th>\n",
       "      <th>Married</th>\n",
       "      <th>Dependents</th>\n",
       "      <th>Education</th>\n",
       "      <th>Self_Employed</th>\n",
       "      <th>Applicant_Income</th>\n",
       "      <th>Coapplicant_Income</th>\n",
       "      <th>Loan_Amount</th>\n",
       "      <th>Loan_Amount_Term</th>\n",
       "      <th>Credit_History</th>\n",
       "      <th>Property_Area</th>\n",
       "    </tr>\n",
       "  </thead>\n",
       "  <tbody>\n",
       "    <tr>\n",
       "      <th>0</th>\n",
       "      <td>1</td>\n",
       "      <td>0</td>\n",
       "      <td>0</td>\n",
       "      <td>1</td>\n",
       "      <td>0</td>\n",
       "      <td>2378</td>\n",
       "      <td>0.0</td>\n",
       "      <td>9</td>\n",
       "      <td>360</td>\n",
       "      <td>1</td>\n",
       "      <td>2</td>\n",
       "    </tr>\n",
       "    <tr>\n",
       "      <th>1</th>\n",
       "      <td>0</td>\n",
       "      <td>1</td>\n",
       "      <td>2</td>\n",
       "      <td>1</td>\n",
       "      <td>0</td>\n",
       "      <td>1299</td>\n",
       "      <td>1086.0</td>\n",
       "      <td>17</td>\n",
       "      <td>120</td>\n",
       "      <td>1</td>\n",
       "      <td>2</td>\n",
       "    </tr>\n",
       "    <tr>\n",
       "      <th>2</th>\n",
       "      <td>0</td>\n",
       "      <td>0</td>\n",
       "      <td>0</td>\n",
       "      <td>0</td>\n",
       "      <td>0</td>\n",
       "      <td>3620</td>\n",
       "      <td>0.0</td>\n",
       "      <td>25</td>\n",
       "      <td>120</td>\n",
       "      <td>1</td>\n",
       "      <td>1</td>\n",
       "    </tr>\n",
       "    <tr>\n",
       "      <th>3</th>\n",
       "      <td>0</td>\n",
       "      <td>1</td>\n",
       "      <td>0</td>\n",
       "      <td>1</td>\n",
       "      <td>1</td>\n",
       "      <td>3459</td>\n",
       "      <td>0.0</td>\n",
       "      <td>25</td>\n",
       "      <td>120</td>\n",
       "      <td>1</td>\n",
       "      <td>1</td>\n",
       "    </tr>\n",
       "    <tr>\n",
       "      <th>4</th>\n",
       "      <td>0</td>\n",
       "      <td>1</td>\n",
       "      <td>1</td>\n",
       "      <td>1</td>\n",
       "      <td>0</td>\n",
       "      <td>5468</td>\n",
       "      <td>1032.0</td>\n",
       "      <td>26</td>\n",
       "      <td>360</td>\n",
       "      <td>1</td>\n",
       "      <td>1</td>\n",
       "    </tr>\n",
       "    <tr>\n",
       "      <th>...</th>\n",
       "      <td>...</td>\n",
       "      <td>...</td>\n",
       "      <td>...</td>\n",
       "      <td>...</td>\n",
       "      <td>...</td>\n",
       "      <td>...</td>\n",
       "      <td>...</td>\n",
       "      <td>...</td>\n",
       "      <td>...</td>\n",
       "      <td>...</td>\n",
       "      <td>...</td>\n",
       "    </tr>\n",
       "    <tr>\n",
       "      <th>609</th>\n",
       "      <td>0</td>\n",
       "      <td>1</td>\n",
       "      <td>2</td>\n",
       "      <td>1</td>\n",
       "      <td>0</td>\n",
       "      <td>2947</td>\n",
       "      <td>1603.0</td>\n",
       "      <td>10</td>\n",
       "      <td>360</td>\n",
       "      <td>1</td>\n",
       "      <td>2</td>\n",
       "    </tr>\n",
       "    <tr>\n",
       "      <th>610</th>\n",
       "      <td>0</td>\n",
       "      <td>0</td>\n",
       "      <td>0</td>\n",
       "      <td>1</td>\n",
       "      <td>0</td>\n",
       "      <td>4680</td>\n",
       "      <td>2087.0</td>\n",
       "      <td>15</td>\n",
       "      <td>360</td>\n",
       "      <td>1</td>\n",
       "      <td>1</td>\n",
       "    </tr>\n",
       "    <tr>\n",
       "      <th>611</th>\n",
       "      <td>0</td>\n",
       "      <td>1</td>\n",
       "      <td>2</td>\n",
       "      <td>1</td>\n",
       "      <td>1</td>\n",
       "      <td>6633</td>\n",
       "      <td>0.0</td>\n",
       "      <td>25</td>\n",
       "      <td>360</td>\n",
       "      <td>0</td>\n",
       "      <td>0</td>\n",
       "    </tr>\n",
       "    <tr>\n",
       "      <th>612</th>\n",
       "      <td>0</td>\n",
       "      <td>1</td>\n",
       "      <td>1</td>\n",
       "      <td>0</td>\n",
       "      <td>0</td>\n",
       "      <td>2492</td>\n",
       "      <td>2375.0</td>\n",
       "      <td>30</td>\n",
       "      <td>360</td>\n",
       "      <td>1</td>\n",
       "      <td>0</td>\n",
       "    </tr>\n",
       "    <tr>\n",
       "      <th>613</th>\n",
       "      <td>0</td>\n",
       "      <td>1</td>\n",
       "      <td>0</td>\n",
       "      <td>0</td>\n",
       "      <td>0</td>\n",
       "      <td>2400</td>\n",
       "      <td>3800.0</td>\n",
       "      <td>25</td>\n",
       "      <td>180</td>\n",
       "      <td>1</td>\n",
       "      <td>2</td>\n",
       "    </tr>\n",
       "  </tbody>\n",
       "</table>\n",
       "<p>614 rows × 11 columns</p>\n",
       "</div>"
      ],
      "text/plain": [
       "     Gender  Married  Dependents  Education  Self_Employed  Applicant_Income  \\\n",
       "0         1        0           0          1              0              2378   \n",
       "1         0        1           2          1              0              1299   \n",
       "2         0        0           0          0              0              3620   \n",
       "3         0        1           0          1              1              3459   \n",
       "4         0        1           1          1              0              5468   \n",
       "..      ...      ...         ...        ...            ...               ...   \n",
       "609       0        1           2          1              0              2947   \n",
       "610       0        0           0          1              0              4680   \n",
       "611       0        1           2          1              1              6633   \n",
       "612       0        1           1          0              0              2492   \n",
       "613       0        1           0          0              0              2400   \n",
       "\n",
       "     Coapplicant_Income  Loan_Amount  Loan_Amount_Term  Credit_History  \\\n",
       "0                   0.0            9               360               1   \n",
       "1                1086.0           17               120               1   \n",
       "2                   0.0           25               120               1   \n",
       "3                   0.0           25               120               1   \n",
       "4                1032.0           26               360               1   \n",
       "..                  ...          ...               ...             ...   \n",
       "609              1603.0           10               360               1   \n",
       "610              2087.0           15               360               1   \n",
       "611                 0.0           25               360               0   \n",
       "612              2375.0           30               360               1   \n",
       "613              3800.0           25               180               1   \n",
       "\n",
       "     Property_Area  \n",
       "0                2  \n",
       "1                2  \n",
       "2                1  \n",
       "3                1  \n",
       "4                1  \n",
       "..             ...  \n",
       "609              2  \n",
       "610              1  \n",
       "611              0  \n",
       "612              0  \n",
       "613              2  \n",
       "\n",
       "[614 rows x 11 columns]"
      ]
     },
     "execution_count": 32,
     "metadata": {},
     "output_type": "execute_result"
    }
   ],
   "source": [
    "x"
   ]
  },
  {
   "cell_type": "markdown",
   "id": "6778769c",
   "metadata": {},
   "source": [
    "# Standardization"
   ]
  },
  {
   "cell_type": "code",
   "execution_count": 38,
   "id": "015c885e",
   "metadata": {},
   "outputs": [],
   "source": [
    "x_std=x[['Applicant_Income', 'Coapplicant_Income','Loan_Amount', 'Loan_Amount_Term']]"
   ]
  },
  {
   "cell_type": "code",
   "execution_count": 39,
   "id": "14d9d0ba",
   "metadata": {},
   "outputs": [],
   "source": [
    "from sklearn.preprocessing import StandardScaler"
   ]
  },
  {
   "cell_type": "code",
   "execution_count": 40,
   "id": "99c4cc1a",
   "metadata": {},
   "outputs": [],
   "source": [
    "ss=StandardScaler()"
   ]
  },
  {
   "cell_type": "code",
   "execution_count": 41,
   "id": "fb3c2ad5",
   "metadata": {},
   "outputs": [],
   "source": [
    "x_std=ss.fit_transform(x_std)"
   ]
  },
  {
   "cell_type": "code",
   "execution_count": 42,
   "id": "61074e1e",
   "metadata": {},
   "outputs": [
    {
     "data": {
      "text/plain": [
       "array([[-0.49564665, -0.55448733, -1.52878429,  0.30300926],\n",
       "       [-0.6724141 , -0.18306108, -1.4368431 , -3.14231829],\n",
       "       [-0.29217568, -0.55448733, -1.34490192, -3.14231829],\n",
       "       ...,\n",
       "       [ 0.20142983, -0.55448733, -1.34490192,  0.30300926],\n",
       "       [-0.47697057,  0.25779382, -1.28743867,  0.30300926],\n",
       "       [-0.49204249,  0.74516252, -1.34490192, -2.2809864 ]])"
      ]
     },
     "execution_count": 42,
     "metadata": {},
     "output_type": "execute_result"
    }
   ],
   "source": [
    "x_std"
   ]
  },
  {
   "cell_type": "code",
   "execution_count": 43,
   "id": "ab1fb137",
   "metadata": {},
   "outputs": [],
   "source": [
    "x[['Applicant_Income', 'Coapplicant_Income','Loan_Amount', 'Loan_Amount_Term']]=pd.DataFrame(x_std,columns=['Applicant_Income', 'Coapplicant_Income',\n",
    "       'Loan_Amount', 'Loan_Amount_Term'])"
   ]
  },
  {
   "cell_type": "markdown",
   "id": "f9978ace",
   "metadata": {},
   "source": [
    "# Train Test Split"
   ]
  },
  {
   "cell_type": "code",
   "execution_count": 44,
   "id": "a01826b4",
   "metadata": {},
   "outputs": [],
   "source": [
    "from sklearn.model_selection import train_test_split"
   ]
  },
  {
   "cell_type": "code",
   "execution_count": 45,
   "id": "37ef79bb",
   "metadata": {},
   "outputs": [],
   "source": [
    "x_train,x_test,y_train,y_test=train_test_split(x,y,test_size=0.3,stratify=y,random_state=2529)"
   ]
  },
  {
   "cell_type": "code",
   "execution_count": 46,
   "id": "05004c34",
   "metadata": {},
   "outputs": [
    {
     "data": {
      "text/plain": [
       "((429, 11), (185, 11), (429,), (185,))"
      ]
     },
     "execution_count": 46,
     "metadata": {},
     "output_type": "execute_result"
    }
   ],
   "source": [
    "x_train.shape,x_test.shape,y_train.shape,y_test.shape"
   ]
  },
  {
   "cell_type": "markdown",
   "id": "08ff2114",
   "metadata": {},
   "source": [
    "# Model Train"
   ]
  },
  {
   "cell_type": "code",
   "execution_count": 47,
   "id": "2f0eadc0",
   "metadata": {},
   "outputs": [],
   "source": [
    "from sklearn.tree import DecisionTreeClassifier"
   ]
  },
  {
   "cell_type": "code",
   "execution_count": 48,
   "id": "27b0b7b6",
   "metadata": {},
   "outputs": [],
   "source": [
    "dt=DecisionTreeClassifier(max_depth=3,random_state=2529)"
   ]
  },
  {
   "cell_type": "code",
   "execution_count": 49,
   "id": "f196fcab",
   "metadata": {},
   "outputs": [
    {
     "data": {
      "text/plain": [
       "DecisionTreeClassifier(max_depth=3, random_state=2529)"
      ]
     },
     "execution_count": 49,
     "metadata": {},
     "output_type": "execute_result"
    }
   ],
   "source": [
    "dt.fit(x_train,y_train)"
   ]
  },
  {
   "cell_type": "markdown",
   "id": "97acdbba",
   "metadata": {},
   "source": [
    "# Model Prediction"
   ]
  },
  {
   "cell_type": "code",
   "execution_count": 50,
   "id": "c7b35b63",
   "metadata": {},
   "outputs": [],
   "source": [
    "y_pred=dt.predict(x_test)"
   ]
  },
  {
   "cell_type": "code",
   "execution_count": 51,
   "id": "d4116582",
   "metadata": {},
   "outputs": [
    {
     "data": {
      "text/plain": [
       "(185,)"
      ]
     },
     "execution_count": 51,
     "metadata": {},
     "output_type": "execute_result"
    }
   ],
   "source": [
    "y_pred.shape"
   ]
  },
  {
   "cell_type": "code",
   "execution_count": 52,
   "id": "4793b567",
   "metadata": {},
   "outputs": [
    {
     "data": {
      "text/plain": [
       "array(['Y', 'N', 'Y', 'Y', 'Y', 'Y', 'Y', 'Y', 'Y', 'Y', 'Y', 'Y', 'Y',\n",
       "       'Y', 'Y', 'N', 'N', 'Y', 'Y', 'Y', 'Y', 'Y', 'Y', 'Y', 'N', 'Y',\n",
       "       'Y', 'Y', 'N', 'Y', 'N', 'Y', 'Y', 'Y', 'Y', 'Y', 'N', 'Y', 'N',\n",
       "       'Y', 'Y', 'Y', 'N', 'Y', 'Y', 'Y', 'Y', 'N', 'Y', 'Y', 'Y', 'N',\n",
       "       'Y', 'Y', 'Y', 'Y', 'N', 'Y', 'Y', 'Y', 'Y', 'Y', 'Y', 'Y', 'Y',\n",
       "       'Y', 'Y', 'Y', 'Y', 'Y', 'Y', 'Y', 'Y', 'Y', 'Y', 'Y', 'Y', 'Y',\n",
       "       'Y', 'Y', 'Y', 'Y', 'Y', 'Y', 'Y', 'Y', 'Y', 'Y', 'Y', 'Y', 'Y',\n",
       "       'Y', 'Y', 'Y', 'Y', 'Y', 'Y', 'Y', 'Y', 'Y', 'N', 'Y', 'Y', 'Y',\n",
       "       'Y', 'Y', 'Y', 'Y', 'Y', 'Y', 'Y', 'Y', 'Y', 'Y', 'Y', 'Y', 'Y',\n",
       "       'Y', 'Y', 'Y', 'Y', 'Y', 'N', 'Y', 'Y', 'Y', 'Y', 'Y', 'N', 'Y',\n",
       "       'Y', 'Y', 'Y', 'N', 'Y', 'Y', 'N', 'Y', 'Y', 'N', 'N', 'N', 'Y',\n",
       "       'Y', 'Y', 'Y', 'Y', 'Y', 'Y', 'Y', 'Y', 'Y', 'N', 'Y', 'Y', 'Y',\n",
       "       'Y', 'Y', 'Y', 'Y', 'Y', 'Y', 'Y', 'Y', 'Y', 'N', 'Y', 'Y', 'Y',\n",
       "       'N', 'Y', 'N', 'N', 'Y', 'N', 'Y', 'Y', 'Y', 'Y', 'Y', 'Y', 'Y',\n",
       "       'Y', 'Y', 'Y'], dtype=object)"
      ]
     },
     "execution_count": 52,
     "metadata": {},
     "output_type": "execute_result"
    }
   ],
   "source": [
    "y_pred"
   ]
  },
  {
   "cell_type": "markdown",
   "id": "b62a1b86",
   "metadata": {},
   "source": [
    "# Probabiltiy of each predicted class"
   ]
  },
  {
   "cell_type": "code",
   "execution_count": 53,
   "id": "7fd3598e",
   "metadata": {},
   "outputs": [
    {
     "data": {
      "text/plain": [
       "array([[0.1547619 , 0.8452381 ],\n",
       "       [0.85294118, 0.14705882],\n",
       "       [0.1547619 , 0.8452381 ],\n",
       "       [0.1547619 , 0.8452381 ],\n",
       "       [0.1547619 , 0.8452381 ],\n",
       "       [0.1547619 , 0.8452381 ],\n",
       "       [0.1547619 , 0.8452381 ],\n",
       "       [0.1547619 , 0.8452381 ],\n",
       "       [0.29245283, 0.70754717],\n",
       "       [0.1547619 , 0.8452381 ],\n",
       "       [0.29245283, 0.70754717],\n",
       "       [0.1547619 , 0.8452381 ],\n",
       "       [0.29245283, 0.70754717],\n",
       "       [0.1547619 , 0.8452381 ],\n",
       "       [0.29245283, 0.70754717],\n",
       "       [0.85294118, 0.14705882],\n",
       "       [0.85294118, 0.14705882],\n",
       "       [0.1547619 , 0.8452381 ],\n",
       "       [0.1547619 , 0.8452381 ],\n",
       "       [0.1547619 , 0.8452381 ],\n",
       "       [0.1547619 , 0.8452381 ],\n",
       "       [0.1547619 , 0.8452381 ],\n",
       "       [0.1547619 , 0.8452381 ],\n",
       "       [0.1547619 , 0.8452381 ],\n",
       "       [0.85294118, 0.14705882],\n",
       "       [0.29245283, 0.70754717],\n",
       "       [0.1547619 , 0.8452381 ],\n",
       "       [0.29245283, 0.70754717],\n",
       "       [0.85294118, 0.14705882],\n",
       "       [0.1547619 , 0.8452381 ],\n",
       "       [1.        , 0.        ],\n",
       "       [0.1547619 , 0.8452381 ],\n",
       "       [0.1547619 , 0.8452381 ],\n",
       "       [0.1547619 , 0.8452381 ],\n",
       "       [0.1547619 , 0.8452381 ],\n",
       "       [0.1547619 , 0.8452381 ],\n",
       "       [0.85294118, 0.14705882],\n",
       "       [0.1547619 , 0.8452381 ],\n",
       "       [1.        , 0.        ],\n",
       "       [0.1547619 , 0.8452381 ],\n",
       "       [0.1547619 , 0.8452381 ],\n",
       "       [0.29245283, 0.70754717],\n",
       "       [1.        , 0.        ],\n",
       "       [0.29245283, 0.70754717],\n",
       "       [0.1547619 , 0.8452381 ],\n",
       "       [0.1547619 , 0.8452381 ],\n",
       "       [0.1547619 , 0.8452381 ],\n",
       "       [0.85294118, 0.14705882],\n",
       "       [0.1547619 , 0.8452381 ],\n",
       "       [0.1547619 , 0.8452381 ],\n",
       "       [0.1547619 , 0.8452381 ],\n",
       "       [0.85294118, 0.14705882],\n",
       "       [0.1547619 , 0.8452381 ],\n",
       "       [0.29245283, 0.70754717],\n",
       "       [0.1547619 , 0.8452381 ],\n",
       "       [0.1547619 , 0.8452381 ],\n",
       "       [0.85294118, 0.14705882],\n",
       "       [0.1547619 , 0.8452381 ],\n",
       "       [0.1547619 , 0.8452381 ],\n",
       "       [0.29245283, 0.70754717],\n",
       "       [0.29245283, 0.70754717],\n",
       "       [0.29245283, 0.70754717],\n",
       "       [0.1547619 , 0.8452381 ],\n",
       "       [0.1547619 , 0.8452381 ],\n",
       "       [0.1547619 , 0.8452381 ],\n",
       "       [0.1547619 , 0.8452381 ],\n",
       "       [0.29245283, 0.70754717],\n",
       "       [0.29245283, 0.70754717],\n",
       "       [0.29245283, 0.70754717],\n",
       "       [0.1547619 , 0.8452381 ],\n",
       "       [0.1547619 , 0.8452381 ],\n",
       "       [0.1547619 , 0.8452381 ],\n",
       "       [0.1547619 , 0.8452381 ],\n",
       "       [0.29245283, 0.70754717],\n",
       "       [0.1547619 , 0.8452381 ],\n",
       "       [0.1547619 , 0.8452381 ],\n",
       "       [0.29245283, 0.70754717],\n",
       "       [0.1547619 , 0.8452381 ],\n",
       "       [0.1547619 , 0.8452381 ],\n",
       "       [0.1547619 , 0.8452381 ],\n",
       "       [0.1547619 , 0.8452381 ],\n",
       "       [0.1547619 , 0.8452381 ],\n",
       "       [0.1547619 , 0.8452381 ],\n",
       "       [0.29245283, 0.70754717],\n",
       "       [0.1547619 , 0.8452381 ],\n",
       "       [0.29245283, 0.70754717],\n",
       "       [0.1547619 , 0.8452381 ],\n",
       "       [0.29245283, 0.70754717],\n",
       "       [0.1547619 , 0.8452381 ],\n",
       "       [0.1547619 , 0.8452381 ],\n",
       "       [0.1547619 , 0.8452381 ],\n",
       "       [0.1547619 , 0.8452381 ],\n",
       "       [0.1547619 , 0.8452381 ],\n",
       "       [0.1547619 , 0.8452381 ],\n",
       "       [0.1547619 , 0.8452381 ],\n",
       "       [0.1547619 , 0.8452381 ],\n",
       "       [0.1547619 , 0.8452381 ],\n",
       "       [0.1547619 , 0.8452381 ],\n",
       "       [0.1547619 , 0.8452381 ],\n",
       "       [0.1547619 , 0.8452381 ],\n",
       "       [0.85294118, 0.14705882],\n",
       "       [0.1547619 , 0.8452381 ],\n",
       "       [0.1547619 , 0.8452381 ],\n",
       "       [0.29245283, 0.70754717],\n",
       "       [0.29245283, 0.70754717],\n",
       "       [0.29245283, 0.70754717],\n",
       "       [0.1547619 , 0.8452381 ],\n",
       "       [0.1547619 , 0.8452381 ],\n",
       "       [0.1547619 , 0.8452381 ],\n",
       "       [0.1547619 , 0.8452381 ],\n",
       "       [0.1547619 , 0.8452381 ],\n",
       "       [0.29245283, 0.70754717],\n",
       "       [0.29245283, 0.70754717],\n",
       "       [0.1547619 , 0.8452381 ],\n",
       "       [0.1547619 , 0.8452381 ],\n",
       "       [0.1547619 , 0.8452381 ],\n",
       "       [0.1547619 , 0.8452381 ],\n",
       "       [0.29245283, 0.70754717],\n",
       "       [0.29245283, 0.70754717],\n",
       "       [0.29245283, 0.70754717],\n",
       "       [0.1547619 , 0.8452381 ],\n",
       "       [0.29245283, 0.70754717],\n",
       "       [0.85294118, 0.14705882],\n",
       "       [0.1547619 , 0.8452381 ],\n",
       "       [0.1547619 , 0.8452381 ],\n",
       "       [0.1547619 , 0.8452381 ],\n",
       "       [0.1547619 , 0.8452381 ],\n",
       "       [0.1547619 , 0.8452381 ],\n",
       "       [0.85294118, 0.14705882],\n",
       "       [0.1547619 , 0.8452381 ],\n",
       "       [0.29245283, 0.70754717],\n",
       "       [0.1547619 , 0.8452381 ],\n",
       "       [0.1547619 , 0.8452381 ],\n",
       "       [1.        , 0.        ],\n",
       "       [0.29245283, 0.70754717],\n",
       "       [0.1547619 , 0.8452381 ],\n",
       "       [0.85294118, 0.14705882],\n",
       "       [0.1547619 , 0.8452381 ],\n",
       "       [0.1547619 , 0.8452381 ],\n",
       "       [1.        , 0.        ],\n",
       "       [0.85294118, 0.14705882],\n",
       "       [0.85294118, 0.14705882],\n",
       "       [0.1547619 , 0.8452381 ],\n",
       "       [0.1547619 , 0.8452381 ],\n",
       "       [0.1547619 , 0.8452381 ],\n",
       "       [0.1547619 , 0.8452381 ],\n",
       "       [0.29245283, 0.70754717],\n",
       "       [0.29245283, 0.70754717],\n",
       "       [0.1547619 , 0.8452381 ],\n",
       "       [0.1547619 , 0.8452381 ],\n",
       "       [0.29245283, 0.70754717],\n",
       "       [0.29245283, 0.70754717],\n",
       "       [0.85294118, 0.14705882],\n",
       "       [0.29245283, 0.70754717],\n",
       "       [0.29245283, 0.70754717],\n",
       "       [0.1547619 , 0.8452381 ],\n",
       "       [0.1547619 , 0.8452381 ],\n",
       "       [0.1547619 , 0.8452381 ],\n",
       "       [0.1547619 , 0.8452381 ],\n",
       "       [0.1547619 , 0.8452381 ],\n",
       "       [0.1547619 , 0.8452381 ],\n",
       "       [0.29245283, 0.70754717],\n",
       "       [0.1547619 , 0.8452381 ],\n",
       "       [0.1547619 , 0.8452381 ],\n",
       "       [0.1547619 , 0.8452381 ],\n",
       "       [1.        , 0.        ],\n",
       "       [0.29245283, 0.70754717],\n",
       "       [0.29245283, 0.70754717],\n",
       "       [0.29245283, 0.70754717],\n",
       "       [1.        , 0.        ],\n",
       "       [0.1547619 , 0.8452381 ],\n",
       "       [1.        , 0.        ],\n",
       "       [0.85294118, 0.14705882],\n",
       "       [0.1547619 , 0.8452381 ],\n",
       "       [1.        , 0.        ],\n",
       "       [0.1547619 , 0.8452381 ],\n",
       "       [0.1547619 , 0.8452381 ],\n",
       "       [0.1547619 , 0.8452381 ],\n",
       "       [0.29245283, 0.70754717],\n",
       "       [0.1547619 , 0.8452381 ],\n",
       "       [0.1547619 , 0.8452381 ],\n",
       "       [0.29245283, 0.70754717],\n",
       "       [0.1547619 , 0.8452381 ],\n",
       "       [0.29245283, 0.70754717],\n",
       "       [0.29245283, 0.70754717]])"
      ]
     },
     "execution_count": 53,
     "metadata": {},
     "output_type": "execute_result"
    }
   ],
   "source": [
    "dt.predict_proba(x_test)"
   ]
  },
  {
   "cell_type": "markdown",
   "id": "6f870af0",
   "metadata": {},
   "source": [
    "# Model Evaluation"
   ]
  },
  {
   "cell_type": "code",
   "execution_count": 54,
   "id": "e5a91427",
   "metadata": {},
   "outputs": [],
   "source": [
    "from sklearn.metrics import confusion_matrix,classification_report"
   ]
  },
  {
   "cell_type": "code",
   "execution_count": 55,
   "id": "0ba35f8c",
   "metadata": {},
   "outputs": [
    {
     "name": "stdout",
     "output_type": "stream",
     "text": [
      "[[ 22  36]\n",
      " [  4 123]]\n"
     ]
    }
   ],
   "source": [
    "print(confusion_matrix(y_test,y_pred))"
   ]
  },
  {
   "cell_type": "code",
   "execution_count": 56,
   "id": "0affb021",
   "metadata": {},
   "outputs": [
    {
     "name": "stdout",
     "output_type": "stream",
     "text": [
      "              precision    recall  f1-score   support\n",
      "\n",
      "           N       0.85      0.38      0.52        58\n",
      "           Y       0.77      0.97      0.86       127\n",
      "\n",
      "    accuracy                           0.78       185\n",
      "   macro avg       0.81      0.67      0.69       185\n",
      "weighted avg       0.80      0.78      0.75       185\n",
      "\n"
     ]
    }
   ],
   "source": [
    "print(classification_report(y_test,y_pred))"
   ]
  },
  {
   "cell_type": "markdown",
   "id": "951e1540",
   "metadata": {},
   "source": [
    "# Decision Tree plot"
   ]
  },
  {
   "cell_type": "code",
   "execution_count": 57,
   "id": "3999e6eb",
   "metadata": {},
   "outputs": [],
   "source": [
    "from sklearn.tree import plot_tree"
   ]
  },
  {
   "cell_type": "code",
   "execution_count": 59,
   "id": "165893a3",
   "metadata": {},
   "outputs": [
    {
     "data": {
      "image/png": "[encoded data removed]",
      "text/plain": [
       "<Figure size 2160x2160 with 1 Axes>"
      ]
     },
     "metadata": {
      "needs_background": "light"
     },
     "output_type": "display_data"
    }
   ],
   "source": [
    "import matplotlib.pyplot as plt\n",
    "plt.figure(figsize=(30,30))\n",
    "plot_tree(dt,filled=True);"
   ]
  },
  {
   "cell_type": "code",
   "execution_count": null,
   "id": "e91fa35c",
   "metadata": {},
   "outputs": [],
   "source": []
  }
 ],
 "metadata": {
  "kernelspec": {
   "display_name": "Python 3 (ipykernel)",
   "language": "python",
   "name": "python3"
  },
  "language_info": {
   "codemirror_mode": {
    "name": "ipython",
    "version": 3
   },
   "file_extension": ".py",
   "mimetype": "text/x-python",
   "name": "python",
   "nbconvert_exporter": "python",
   "pygments_lexer": "ipython3",
   "version": "3.9.7"
  }
 },
 "nbformat": 4,
 "nbformat_minor": 5
}
