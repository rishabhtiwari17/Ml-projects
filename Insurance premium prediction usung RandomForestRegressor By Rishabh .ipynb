{
 "cells": [
  {
   "cell_type": "code",
   "execution_count": 1,
   "id": "170c8c30",
   "metadata": {},
   "outputs": [],
   "source": [
    "import pandas as pd"
   ]
  },
  {
   "cell_type": "code",
   "execution_count": 2,
   "id": "14840a15",
   "metadata": {},
   "outputs": [],
   "source": [
    "import numpy  as np"
   ]
  },
  {
   "cell_type": "code",
   "execution_count": 4,
   "id": "4b05b711",
   "metadata": {},
   "outputs": [],
   "source": [
    "df=pd.read_csv(r'https://github.com/YBI-Foundation/Dataset/raw/main/Insurance%20Premium.csv')"
   ]
  },
  {
   "cell_type": "code",
   "execution_count": 5,
   "id": "be333997",
   "metadata": {},
   "outputs": [
    {
     "data": {
      "text/html": [
       "<div>\n",
       "<style scoped>\n",
       "    .dataframe tbody tr th:only-of-type {\n",
       "        vertical-align: middle;\n",
       "    }\n",
       "\n",
       "    .dataframe tbody tr th {\n",
       "        vertical-align: top;\n",
       "    }\n",
       "\n",
       "    .dataframe thead th {\n",
       "        text-align: right;\n",
       "    }\n",
       "</style>\n",
       "<table border=\"1\" class=\"dataframe\">\n",
       "  <thead>\n",
       "    <tr style=\"text-align: right;\">\n",
       "      <th></th>\n",
       "      <th>ID</th>\n",
       "      <th>Age</th>\n",
       "      <th>Gender</th>\n",
       "      <th>BMI</th>\n",
       "      <th>Children</th>\n",
       "      <th>Smoker</th>\n",
       "      <th>Region</th>\n",
       "      <th>Premium</th>\n",
       "    </tr>\n",
       "  </thead>\n",
       "  <tbody>\n",
       "    <tr>\n",
       "      <th>0</th>\n",
       "      <td>1</td>\n",
       "      <td>19</td>\n",
       "      <td>female</td>\n",
       "      <td>27.900</td>\n",
       "      <td>0</td>\n",
       "      <td>yes</td>\n",
       "      <td>south</td>\n",
       "      <td>16885</td>\n",
       "    </tr>\n",
       "    <tr>\n",
       "      <th>1</th>\n",
       "      <td>2</td>\n",
       "      <td>18</td>\n",
       "      <td>male</td>\n",
       "      <td>33.770</td>\n",
       "      <td>1</td>\n",
       "      <td>no</td>\n",
       "      <td>east</td>\n",
       "      <td>1726</td>\n",
       "    </tr>\n",
       "    <tr>\n",
       "      <th>2</th>\n",
       "      <td>3</td>\n",
       "      <td>28</td>\n",
       "      <td>male</td>\n",
       "      <td>33.000</td>\n",
       "      <td>3</td>\n",
       "      <td>no</td>\n",
       "      <td>east</td>\n",
       "      <td>4449</td>\n",
       "    </tr>\n",
       "    <tr>\n",
       "      <th>3</th>\n",
       "      <td>4</td>\n",
       "      <td>33</td>\n",
       "      <td>male</td>\n",
       "      <td>22.705</td>\n",
       "      <td>0</td>\n",
       "      <td>no</td>\n",
       "      <td>west</td>\n",
       "      <td>21984</td>\n",
       "    </tr>\n",
       "    <tr>\n",
       "      <th>4</th>\n",
       "      <td>5</td>\n",
       "      <td>32</td>\n",
       "      <td>male</td>\n",
       "      <td>28.880</td>\n",
       "      <td>0</td>\n",
       "      <td>no</td>\n",
       "      <td>west</td>\n",
       "      <td>3867</td>\n",
       "    </tr>\n",
       "  </tbody>\n",
       "</table>\n",
       "</div>"
      ],
      "text/plain": [
       "   ID  Age  Gender     BMI  Children Smoker Region  Premium\n",
       "0   1   19  female  27.900         0    yes  south    16885\n",
       "1   2   18    male  33.770         1     no   east     1726\n",
       "2   3   28    male  33.000         3     no   east     4449\n",
       "3   4   33    male  22.705         0     no   west    21984\n",
       "4   5   32    male  28.880         0     no   west     3867"
      ]
     },
     "execution_count": 5,
     "metadata": {},
     "output_type": "execute_result"
    }
   ],
   "source": [
    "df.head()"
   ]
  },
  {
   "cell_type": "code",
   "execution_count": 6,
   "id": "a4e5e872",
   "metadata": {},
   "outputs": [
    {
     "name": "stdout",
     "output_type": "stream",
     "text": [
      "<class 'pandas.core.frame.DataFrame'>\n",
      "RangeIndex: 1338 entries, 0 to 1337\n",
      "Data columns (total 8 columns):\n",
      " #   Column    Non-Null Count  Dtype  \n",
      "---  ------    --------------  -----  \n",
      " 0   ID        1338 non-null   int64  \n",
      " 1   Age       1338 non-null   int64  \n",
      " 2   Gender    1338 non-null   object \n",
      " 3   BMI       1338 non-null   float64\n",
      " 4   Children  1338 non-null   int64  \n",
      " 5   Smoker    1338 non-null   object \n",
      " 6   Region    1338 non-null   object \n",
      " 7   Premium   1338 non-null   int64  \n",
      "dtypes: float64(1), int64(4), object(3)\n",
      "memory usage: 83.8+ KB\n"
     ]
    }
   ],
   "source": [
    "df.info()"
   ]
  },
  {
   "cell_type": "code",
   "execution_count": 8,
   "id": "3c53c333",
   "metadata": {},
   "outputs": [
    {
     "data": {
      "text/html": [
       "<div>\n",
       "<style scoped>\n",
       "    .dataframe tbody tr th:only-of-type {\n",
       "        vertical-align: middle;\n",
       "    }\n",
       "\n",
       "    .dataframe tbody tr th {\n",
       "        vertical-align: top;\n",
       "    }\n",
       "\n",
       "    .dataframe thead th {\n",
       "        text-align: right;\n",
       "    }\n",
       "</style>\n",
       "<table border=\"1\" class=\"dataframe\">\n",
       "  <thead>\n",
       "    <tr style=\"text-align: right;\">\n",
       "      <th></th>\n",
       "      <th>ID</th>\n",
       "      <th>Age</th>\n",
       "      <th>BMI</th>\n",
       "      <th>Children</th>\n",
       "      <th>Premium</th>\n",
       "    </tr>\n",
       "  </thead>\n",
       "  <tbody>\n",
       "    <tr>\n",
       "      <th>count</th>\n",
       "      <td>1338.000000</td>\n",
       "      <td>1338.000000</td>\n",
       "      <td>1338.000000</td>\n",
       "      <td>1338.000000</td>\n",
       "      <td>1338.000000</td>\n",
       "    </tr>\n",
       "    <tr>\n",
       "      <th>mean</th>\n",
       "      <td>669.500000</td>\n",
       "      <td>39.207025</td>\n",
       "      <td>30.663397</td>\n",
       "      <td>1.094918</td>\n",
       "      <td>13270.414798</td>\n",
       "    </tr>\n",
       "    <tr>\n",
       "      <th>std</th>\n",
       "      <td>386.391641</td>\n",
       "      <td>14.049960</td>\n",
       "      <td>6.098187</td>\n",
       "      <td>1.205493</td>\n",
       "      <td>12110.012882</td>\n",
       "    </tr>\n",
       "    <tr>\n",
       "      <th>min</th>\n",
       "      <td>1.000000</td>\n",
       "      <td>18.000000</td>\n",
       "      <td>15.960000</td>\n",
       "      <td>0.000000</td>\n",
       "      <td>1122.000000</td>\n",
       "    </tr>\n",
       "    <tr>\n",
       "      <th>25%</th>\n",
       "      <td>335.250000</td>\n",
       "      <td>27.000000</td>\n",
       "      <td>26.296250</td>\n",
       "      <td>0.000000</td>\n",
       "      <td>4740.000000</td>\n",
       "    </tr>\n",
       "    <tr>\n",
       "      <th>50%</th>\n",
       "      <td>669.500000</td>\n",
       "      <td>39.000000</td>\n",
       "      <td>30.400000</td>\n",
       "      <td>1.000000</td>\n",
       "      <td>9382.000000</td>\n",
       "    </tr>\n",
       "    <tr>\n",
       "      <th>75%</th>\n",
       "      <td>1003.750000</td>\n",
       "      <td>51.000000</td>\n",
       "      <td>34.693750</td>\n",
       "      <td>2.000000</td>\n",
       "      <td>16640.000000</td>\n",
       "    </tr>\n",
       "    <tr>\n",
       "      <th>max</th>\n",
       "      <td>1338.000000</td>\n",
       "      <td>64.000000</td>\n",
       "      <td>53.130000</td>\n",
       "      <td>5.000000</td>\n",
       "      <td>63770.000000</td>\n",
       "    </tr>\n",
       "  </tbody>\n",
       "</table>\n",
       "</div>"
      ],
      "text/plain": [
       "                ID          Age          BMI     Children       Premium\n",
       "count  1338.000000  1338.000000  1338.000000  1338.000000   1338.000000\n",
       "mean    669.500000    39.207025    30.663397     1.094918  13270.414798\n",
       "std     386.391641    14.049960     6.098187     1.205493  12110.012882\n",
       "min       1.000000    18.000000    15.960000     0.000000   1122.000000\n",
       "25%     335.250000    27.000000    26.296250     0.000000   4740.000000\n",
       "50%     669.500000    39.000000    30.400000     1.000000   9382.000000\n",
       "75%    1003.750000    51.000000    34.693750     2.000000  16640.000000\n",
       "max    1338.000000    64.000000    53.130000     5.000000  63770.000000"
      ]
     },
     "execution_count": 8,
     "metadata": {},
     "output_type": "execute_result"
    }
   ],
   "source": [
    "df.describe()"
   ]
  },
  {
   "cell_type": "markdown",
   "id": "6cef45d1",
   "metadata": {},
   "source": [
    "# Get Categories and Counts of categorical values"
   ]
  },
  {
   "cell_type": "code",
   "execution_count": 11,
   "id": "b6112f85",
   "metadata": {},
   "outputs": [
    {
     "data": {
      "text/plain": [
       "Gender\n",
       "male      676\n",
       "female    662\n",
       "dtype: int64"
      ]
     },
     "execution_count": 11,
     "metadata": {},
     "output_type": "execute_result"
    }
   ],
   "source": [
    "df[['Gender']].value_counts()"
   ]
  },
  {
   "cell_type": "code",
   "execution_count": 12,
   "id": "202df0af",
   "metadata": {},
   "outputs": [
    {
     "data": {
      "text/plain": [
       "Smoker\n",
       "no        1064\n",
       "yes        274\n",
       "dtype: int64"
      ]
     },
     "execution_count": 12,
     "metadata": {},
     "output_type": "execute_result"
    }
   ],
   "source": [
    "df[['Smoker']].value_counts()"
   ]
  },
  {
   "cell_type": "code",
   "execution_count": 13,
   "id": "39f7df6c",
   "metadata": {},
   "outputs": [
    {
     "data": {
      "text/plain": [
       "Region\n",
       "east      364\n",
       "south     325\n",
       "west      325\n",
       "north     324\n",
       "dtype: int64"
      ]
     },
     "execution_count": 13,
     "metadata": {},
     "output_type": "execute_result"
    }
   ],
   "source": [
    "df[['Region']].value_counts()"
   ]
  },
  {
   "cell_type": "code",
   "execution_count": 14,
   "id": "560e3063",
   "metadata": {},
   "outputs": [
    {
     "data": {
      "text/plain": [
       "Index(['ID', 'Age', 'Gender', 'BMI', 'Children', 'Smoker', 'Region',\n",
       "       'Premium'],\n",
       "      dtype='object')"
      ]
     },
     "execution_count": 14,
     "metadata": {},
     "output_type": "execute_result"
    }
   ],
   "source": [
    "df.columns"
   ]
  },
  {
   "cell_type": "code",
   "execution_count": 15,
   "id": "00a3af56",
   "metadata": {},
   "outputs": [
    {
     "data": {
      "text/plain": [
       "(1338, 8)"
      ]
     },
     "execution_count": 15,
     "metadata": {},
     "output_type": "execute_result"
    }
   ],
   "source": [
    "df.shape"
   ]
  },
  {
   "cell_type": "markdown",
   "id": "bf82a4b9",
   "metadata": {},
   "source": [
    "# Encoding"
   ]
  },
  {
   "cell_type": "code",
   "execution_count": 18,
   "id": "9054b84f",
   "metadata": {},
   "outputs": [],
   "source": [
    "df.replace({'Gender':{'male':0,'female':1}},inplace=True)"
   ]
  },
  {
   "cell_type": "code",
   "execution_count": 19,
   "id": "dcc45f47",
   "metadata": {},
   "outputs": [],
   "source": [
    "df.replace({'Smoker':{'no':0,'yes':1}},inplace=True)"
   ]
  },
  {
   "cell_type": "code",
   "execution_count": 20,
   "id": "79d1aa56",
   "metadata": {},
   "outputs": [],
   "source": [
    "df.replace({'Region':{'north':0,'east':1,'south':2,'west':3}},inplace=True)"
   ]
  },
  {
   "cell_type": "markdown",
   "id": "fcd30fce",
   "metadata": {},
   "source": [
    "# Define X and Y"
   ]
  },
  {
   "cell_type": "code",
   "execution_count": 21,
   "id": "fe94440e",
   "metadata": {},
   "outputs": [],
   "source": [
    "y=df['Premium']"
   ]
  },
  {
   "cell_type": "code",
   "execution_count": 22,
   "id": "1ae3629b",
   "metadata": {},
   "outputs": [
    {
     "data": {
      "text/plain": [
       "(1338,)"
      ]
     },
     "execution_count": 22,
     "metadata": {},
     "output_type": "execute_result"
    }
   ],
   "source": [
    "y.shape"
   ]
  },
  {
   "cell_type": "code",
   "execution_count": 23,
   "id": "ad2f0ff1",
   "metadata": {},
   "outputs": [
    {
     "data": {
      "text/plain": [
       "0       16885\n",
       "1        1726\n",
       "2        4449\n",
       "3       21984\n",
       "4        3867\n",
       "        ...  \n",
       "1333    10601\n",
       "1334     2206\n",
       "1335     1630\n",
       "1336     2008\n",
       "1337    29141\n",
       "Name: Premium, Length: 1338, dtype: int64"
      ]
     },
     "execution_count": 23,
     "metadata": {},
     "output_type": "execute_result"
    }
   ],
   "source": [
    "y"
   ]
  },
  {
   "cell_type": "code",
   "execution_count": 25,
   "id": "1a2f718d",
   "metadata": {},
   "outputs": [],
   "source": [
    "x=df.drop(['ID','Premium'],axis=1)"
   ]
  },
  {
   "cell_type": "code",
   "execution_count": 27,
   "id": "2d5fa9f3",
   "metadata": {},
   "outputs": [
    {
     "data": {
      "text/plain": [
       "(1338, 6)"
      ]
     },
     "execution_count": 27,
     "metadata": {},
     "output_type": "execute_result"
    }
   ],
   "source": [
    "x.shape"
   ]
  },
  {
   "cell_type": "code",
   "execution_count": 28,
   "id": "119b3bb7",
   "metadata": {},
   "outputs": [
    {
     "data": {
      "text/html": [
       "<div>\n",
       "<style scoped>\n",
       "    .dataframe tbody tr th:only-of-type {\n",
       "        vertical-align: middle;\n",
       "    }\n",
       "\n",
       "    .dataframe tbody tr th {\n",
       "        vertical-align: top;\n",
       "    }\n",
       "\n",
       "    .dataframe thead th {\n",
       "        text-align: right;\n",
       "    }\n",
       "</style>\n",
       "<table border=\"1\" class=\"dataframe\">\n",
       "  <thead>\n",
       "    <tr style=\"text-align: right;\">\n",
       "      <th></th>\n",
       "      <th>Age</th>\n",
       "      <th>Gender</th>\n",
       "      <th>BMI</th>\n",
       "      <th>Children</th>\n",
       "      <th>Smoker</th>\n",
       "      <th>Region</th>\n",
       "    </tr>\n",
       "  </thead>\n",
       "  <tbody>\n",
       "    <tr>\n",
       "      <th>0</th>\n",
       "      <td>19</td>\n",
       "      <td>1</td>\n",
       "      <td>27.900</td>\n",
       "      <td>0</td>\n",
       "      <td>1</td>\n",
       "      <td>2</td>\n",
       "    </tr>\n",
       "    <tr>\n",
       "      <th>1</th>\n",
       "      <td>18</td>\n",
       "      <td>0</td>\n",
       "      <td>33.770</td>\n",
       "      <td>1</td>\n",
       "      <td>0</td>\n",
       "      <td>1</td>\n",
       "    </tr>\n",
       "    <tr>\n",
       "      <th>2</th>\n",
       "      <td>28</td>\n",
       "      <td>0</td>\n",
       "      <td>33.000</td>\n",
       "      <td>3</td>\n",
       "      <td>0</td>\n",
       "      <td>1</td>\n",
       "    </tr>\n",
       "    <tr>\n",
       "      <th>3</th>\n",
       "      <td>33</td>\n",
       "      <td>0</td>\n",
       "      <td>22.705</td>\n",
       "      <td>0</td>\n",
       "      <td>0</td>\n",
       "      <td>3</td>\n",
       "    </tr>\n",
       "    <tr>\n",
       "      <th>4</th>\n",
       "      <td>32</td>\n",
       "      <td>0</td>\n",
       "      <td>28.880</td>\n",
       "      <td>0</td>\n",
       "      <td>0</td>\n",
       "      <td>3</td>\n",
       "    </tr>\n",
       "    <tr>\n",
       "      <th>...</th>\n",
       "      <td>...</td>\n",
       "      <td>...</td>\n",
       "      <td>...</td>\n",
       "      <td>...</td>\n",
       "      <td>...</td>\n",
       "      <td>...</td>\n",
       "    </tr>\n",
       "    <tr>\n",
       "      <th>1333</th>\n",
       "      <td>50</td>\n",
       "      <td>0</td>\n",
       "      <td>30.970</td>\n",
       "      <td>3</td>\n",
       "      <td>0</td>\n",
       "      <td>3</td>\n",
       "    </tr>\n",
       "    <tr>\n",
       "      <th>1334</th>\n",
       "      <td>18</td>\n",
       "      <td>1</td>\n",
       "      <td>31.920</td>\n",
       "      <td>0</td>\n",
       "      <td>0</td>\n",
       "      <td>0</td>\n",
       "    </tr>\n",
       "    <tr>\n",
       "      <th>1335</th>\n",
       "      <td>18</td>\n",
       "      <td>1</td>\n",
       "      <td>36.850</td>\n",
       "      <td>0</td>\n",
       "      <td>0</td>\n",
       "      <td>1</td>\n",
       "    </tr>\n",
       "    <tr>\n",
       "      <th>1336</th>\n",
       "      <td>21</td>\n",
       "      <td>1</td>\n",
       "      <td>25.800</td>\n",
       "      <td>0</td>\n",
       "      <td>0</td>\n",
       "      <td>2</td>\n",
       "    </tr>\n",
       "    <tr>\n",
       "      <th>1337</th>\n",
       "      <td>61</td>\n",
       "      <td>1</td>\n",
       "      <td>29.070</td>\n",
       "      <td>0</td>\n",
       "      <td>1</td>\n",
       "      <td>3</td>\n",
       "    </tr>\n",
       "  </tbody>\n",
       "</table>\n",
       "<p>1338 rows × 6 columns</p>\n",
       "</div>"
      ],
      "text/plain": [
       "      Age  Gender     BMI  Children  Smoker  Region\n",
       "0      19       1  27.900         0       1       2\n",
       "1      18       0  33.770         1       0       1\n",
       "2      28       0  33.000         3       0       1\n",
       "3      33       0  22.705         0       0       3\n",
       "4      32       0  28.880         0       0       3\n",
       "...   ...     ...     ...       ...     ...     ...\n",
       "1333   50       0  30.970         3       0       3\n",
       "1334   18       1  31.920         0       0       0\n",
       "1335   18       1  36.850         0       0       1\n",
       "1336   21       1  25.800         0       0       2\n",
       "1337   61       1  29.070         0       1       3\n",
       "\n",
       "[1338 rows x 6 columns]"
      ]
     },
     "execution_count": 28,
     "metadata": {},
     "output_type": "execute_result"
    }
   ],
   "source": [
    "x"
   ]
  },
  {
   "cell_type": "markdown",
   "id": "6de12e25",
   "metadata": {},
   "source": [
    "# Get X variable standardized"
   ]
  },
  {
   "cell_type": "code",
   "execution_count": 29,
   "id": "2ed47148",
   "metadata": {},
   "outputs": [],
   "source": [
    "from sklearn.preprocessing import StandardScaler"
   ]
  },
  {
   "cell_type": "code",
   "execution_count": 30,
   "id": "dd6e9442",
   "metadata": {},
   "outputs": [],
   "source": [
    "ss=StandardScaler()"
   ]
  },
  {
   "cell_type": "code",
   "execution_count": 31,
   "id": "d1f9ac5b",
   "metadata": {},
   "outputs": [],
   "source": [
    "x_std=df[['Age','BMI']]"
   ]
  },
  {
   "cell_type": "code",
   "execution_count": 32,
   "id": "6af6648c",
   "metadata": {},
   "outputs": [],
   "source": [
    "x_std=ss.fit_transform(x_std)"
   ]
  },
  {
   "cell_type": "code",
   "execution_count": 35,
   "id": "61500160",
   "metadata": {},
   "outputs": [],
   "source": [
    "x[['Age','BMI']]=pd.DataFrame(x_std,columns=['Age','BMI'])"
   ]
  },
  {
   "cell_type": "code",
   "execution_count": 36,
   "id": "b1313e4a",
   "metadata": {},
   "outputs": [
    {
     "data": {
      "text/html": [
       "<div>\n",
       "<style scoped>\n",
       "    .dataframe tbody tr th:only-of-type {\n",
       "        vertical-align: middle;\n",
       "    }\n",
       "\n",
       "    .dataframe tbody tr th {\n",
       "        vertical-align: top;\n",
       "    }\n",
       "\n",
       "    .dataframe thead th {\n",
       "        text-align: right;\n",
       "    }\n",
       "</style>\n",
       "<table border=\"1\" class=\"dataframe\">\n",
       "  <thead>\n",
       "    <tr style=\"text-align: right;\">\n",
       "      <th></th>\n",
       "      <th>Age</th>\n",
       "      <th>Gender</th>\n",
       "      <th>BMI</th>\n",
       "      <th>Children</th>\n",
       "      <th>Smoker</th>\n",
       "      <th>Region</th>\n",
       "    </tr>\n",
       "  </thead>\n",
       "  <tbody>\n",
       "    <tr>\n",
       "      <th>0</th>\n",
       "      <td>-1.438764</td>\n",
       "      <td>1</td>\n",
       "      <td>-0.453320</td>\n",
       "      <td>0</td>\n",
       "      <td>1</td>\n",
       "      <td>2</td>\n",
       "    </tr>\n",
       "    <tr>\n",
       "      <th>1</th>\n",
       "      <td>-1.509965</td>\n",
       "      <td>0</td>\n",
       "      <td>0.509621</td>\n",
       "      <td>1</td>\n",
       "      <td>0</td>\n",
       "      <td>1</td>\n",
       "    </tr>\n",
       "    <tr>\n",
       "      <th>2</th>\n",
       "      <td>-0.797954</td>\n",
       "      <td>0</td>\n",
       "      <td>0.383307</td>\n",
       "      <td>3</td>\n",
       "      <td>0</td>\n",
       "      <td>1</td>\n",
       "    </tr>\n",
       "    <tr>\n",
       "      <th>3</th>\n",
       "      <td>-0.441948</td>\n",
       "      <td>0</td>\n",
       "      <td>-1.305531</td>\n",
       "      <td>0</td>\n",
       "      <td>0</td>\n",
       "      <td>3</td>\n",
       "    </tr>\n",
       "    <tr>\n",
       "      <th>4</th>\n",
       "      <td>-0.513149</td>\n",
       "      <td>0</td>\n",
       "      <td>-0.292556</td>\n",
       "      <td>0</td>\n",
       "      <td>0</td>\n",
       "      <td>3</td>\n",
       "    </tr>\n",
       "    <tr>\n",
       "      <th>...</th>\n",
       "      <td>...</td>\n",
       "      <td>...</td>\n",
       "      <td>...</td>\n",
       "      <td>...</td>\n",
       "      <td>...</td>\n",
       "      <td>...</td>\n",
       "    </tr>\n",
       "    <tr>\n",
       "      <th>1333</th>\n",
       "      <td>0.768473</td>\n",
       "      <td>0</td>\n",
       "      <td>0.050297</td>\n",
       "      <td>3</td>\n",
       "      <td>0</td>\n",
       "      <td>3</td>\n",
       "    </tr>\n",
       "    <tr>\n",
       "      <th>1334</th>\n",
       "      <td>-1.509965</td>\n",
       "      <td>1</td>\n",
       "      <td>0.206139</td>\n",
       "      <td>0</td>\n",
       "      <td>0</td>\n",
       "      <td>0</td>\n",
       "    </tr>\n",
       "    <tr>\n",
       "      <th>1335</th>\n",
       "      <td>-1.509965</td>\n",
       "      <td>1</td>\n",
       "      <td>1.014878</td>\n",
       "      <td>0</td>\n",
       "      <td>0</td>\n",
       "      <td>1</td>\n",
       "    </tr>\n",
       "    <tr>\n",
       "      <th>1336</th>\n",
       "      <td>-1.296362</td>\n",
       "      <td>1</td>\n",
       "      <td>-0.797813</td>\n",
       "      <td>0</td>\n",
       "      <td>0</td>\n",
       "      <td>2</td>\n",
       "    </tr>\n",
       "    <tr>\n",
       "      <th>1337</th>\n",
       "      <td>1.551686</td>\n",
       "      <td>1</td>\n",
       "      <td>-0.261388</td>\n",
       "      <td>0</td>\n",
       "      <td>1</td>\n",
       "      <td>3</td>\n",
       "    </tr>\n",
       "  </tbody>\n",
       "</table>\n",
       "<p>1338 rows × 6 columns</p>\n",
       "</div>"
      ],
      "text/plain": [
       "           Age  Gender       BMI  Children  Smoker  Region\n",
       "0    -1.438764       1 -0.453320         0       1       2\n",
       "1    -1.509965       0  0.509621         1       0       1\n",
       "2    -0.797954       0  0.383307         3       0       1\n",
       "3    -0.441948       0 -1.305531         0       0       3\n",
       "4    -0.513149       0 -0.292556         0       0       3\n",
       "...        ...     ...       ...       ...     ...     ...\n",
       "1333  0.768473       0  0.050297         3       0       3\n",
       "1334 -1.509965       1  0.206139         0       0       0\n",
       "1335 -1.509965       1  1.014878         0       0       1\n",
       "1336 -1.296362       1 -0.797813         0       0       2\n",
       "1337  1.551686       1 -0.261388         0       1       3\n",
       "\n",
       "[1338 rows x 6 columns]"
      ]
     },
     "execution_count": 36,
     "metadata": {},
     "output_type": "execute_result"
    }
   ],
   "source": [
    "x"
   ]
  },
  {
   "cell_type": "markdown",
   "id": "2e24220c",
   "metadata": {},
   "source": [
    "# Train Test Split"
   ]
  },
  {
   "cell_type": "code",
   "execution_count": 37,
   "id": "72dea1f5",
   "metadata": {},
   "outputs": [],
   "source": [
    "from sklearn.model_selection import train_test_split"
   ]
  },
  {
   "cell_type": "code",
   "execution_count": 38,
   "id": "f40711b5",
   "metadata": {},
   "outputs": [],
   "source": [
    "x_train,x_test,y_train,y_test=train_test_split(x,y,train_size=0.8,random_state=2529)"
   ]
  },
  {
   "cell_type": "code",
   "execution_count": 39,
   "id": "16c0f360",
   "metadata": {},
   "outputs": [
    {
     "data": {
      "text/plain": [
       "((1070, 6), (268, 6), (1070,), (268,))"
      ]
     },
     "execution_count": 39,
     "metadata": {},
     "output_type": "execute_result"
    }
   ],
   "source": [
    "x_train.shape,x_test.shape,y_train.shape,y_test.shape"
   ]
  },
  {
   "cell_type": "markdown",
   "id": "ab9194a3",
   "metadata": {},
   "source": [
    "# Model Train"
   ]
  },
  {
   "cell_type": "code",
   "execution_count": 40,
   "id": "925d3bad",
   "metadata": {},
   "outputs": [],
   "source": [
    "from sklearn.ensemble import RandomForestRegressor"
   ]
  },
  {
   "cell_type": "code",
   "execution_count": 41,
   "id": "f780de6a",
   "metadata": {},
   "outputs": [],
   "source": [
    "rfr=RandomForestRegressor(random_state=2529)"
   ]
  },
  {
   "cell_type": "code",
   "execution_count": 42,
   "id": "33ce9f76",
   "metadata": {},
   "outputs": [
    {
     "data": {
      "text/plain": [
       "RandomForestRegressor(random_state=2529)"
      ]
     },
     "execution_count": 42,
     "metadata": {},
     "output_type": "execute_result"
    }
   ],
   "source": [
    "rfr.fit(x_train,y_train)"
   ]
  },
  {
   "cell_type": "markdown",
   "id": "4ea674a8",
   "metadata": {},
   "source": [
    "# Model Prediction"
   ]
  },
  {
   "cell_type": "code",
   "execution_count": 43,
   "id": "65fe0bc6",
   "metadata": {},
   "outputs": [],
   "source": [
    "y_pred=rfr.predict(x_test)"
   ]
  },
  {
   "cell_type": "code",
   "execution_count": 44,
   "id": "5e53597e",
   "metadata": {},
   "outputs": [
    {
     "data": {
      "text/plain": [
       "(268,)"
      ]
     },
     "execution_count": 44,
     "metadata": {},
     "output_type": "execute_result"
    }
   ],
   "source": [
    "y_pred.shape"
   ]
  },
  {
   "cell_type": "code",
   "execution_count": 45,
   "id": "39266441",
   "metadata": {},
   "outputs": [
    {
     "data": {
      "text/plain": [
       "array([13371.68      ,  4288.26      ,  9032.84      ,  4040.25      ,\n",
       "        5309.57      , 13991.25      , 14199.77      ,  3515.28      ,\n",
       "       10323.48      ,  3450.04      , 33355.04      ,  1973.4       ,\n",
       "       14429.98      ,  8165.4       , 25308.29      , 28548.37      ,\n",
       "        8118.45      , 22036.37      , 13110.53      , 10997.54      ,\n",
       "        7780.21      ,  7280.67      ,  4082.55533333,  6727.39      ,\n",
       "        5870.86      , 19385.02      , 17158.38      , 31625.93      ,\n",
       "       14601.78      , 39947.41      , 47052.06      ,  7406.08      ,\n",
       "        5416.43      ,  4667.76      , 40909.74      , 10357.81      ,\n",
       "       11359.43      , 35129.46      , 16852.98      ,  5414.25      ,\n",
       "        5295.59      , 11274.92      , 45896.91      , 11521.96      ,\n",
       "       15874.27      , 10828.95      , 16575.95      ,  9388.2       ,\n",
       "        2149.41      , 48153.35      ,  1162.33      , 45791.92      ,\n",
       "        3617.13      ,  4424.78      ,  5044.08      ,  9605.9       ,\n",
       "       11035.86      , 39938.38      , 39837.85      , 41079.54      ,\n",
       "        6397.46      ,  5096.93      , 35663.7       ,  7186.62      ,\n",
       "        9081.41      , 11524.05      ,  9338.34      , 42666.6       ,\n",
       "       10005.73      , 18199.69      ,  9650.82      ,  7829.93      ,\n",
       "       10367.8       , 16062.21      , 10825.76      , 19073.73      ,\n",
       "       34726.48      , 48153.76      ,  5697.        ,  1864.08      ,\n",
       "       40305.74      ,  2876.74      ,  7127.43      , 12546.54      ,\n",
       "       16101.37      , 13371.21      ,  4491.13      ,  2448.64      ,\n",
       "        7530.68      , 19259.41      ,  4806.89      , 37772.71      ,\n",
       "       42031.83      ,  5325.28333333,  5268.34      , 10348.66      ,\n",
       "       15375.94      ,  5363.19      ,  1897.72      ,  9584.83      ,\n",
       "       11975.48      ,  5511.31      , 36080.06      , 28735.95      ,\n",
       "        9316.35      ,  8044.6       , 37595.        ,  1381.12      ,\n",
       "       24306.59      ,  6819.95      ,  1675.5       , 10641.9       ,\n",
       "        2100.78      , 11073.47      ,  7809.79      ,  3858.71      ,\n",
       "        5988.69      , 31549.73      , 34528.5       , 11884.66      ,\n",
       "        6793.19      ,  9543.41      ,  2206.08      ,  6063.3       ,\n",
       "        3184.11      ,  6355.06      ,  8105.13      , 44394.75      ,\n",
       "       10957.17      , 42686.45      , 14100.64      , 10457.2       ,\n",
       "       23340.35      ,  5933.31      ,  1692.83      , 28474.6       ,\n",
       "        8528.8       , 17671.2       , 12943.86      ,  2112.73      ,\n",
       "        6789.74      ,  5056.99      , 14645.15      ,  5730.57      ,\n",
       "       23851.99      , 28805.89      , 16010.05      , 20231.51      ,\n",
       "        6456.47      ,  3768.93      ,  9398.77      ,  9965.37      ,\n",
       "        2930.21      , 10523.79      ,  4880.95      ,  1821.84      ,\n",
       "        4246.88      ,  2997.82      ,  7034.49      ,  2140.78      ,\n",
       "       21953.13      , 11166.47      ,  5489.87      , 13748.79      ,\n",
       "        6625.74      ,  6636.8       , 37766.2       , 10225.19      ,\n",
       "        7089.39      ,  1864.94      , 17290.44      , 19330.49      ,\n",
       "       10732.1       ,  7266.82      ,  8694.15      , 35355.06      ,\n",
       "       40571.71      ,  7496.88      ,  5555.87      ,  9819.64      ,\n",
       "       16850.06      , 43973.82      ,  4845.7       ,  6627.17      ,\n",
       "        6466.73      ,  7811.22      ,  2547.53      , 13983.27      ,\n",
       "       14842.53      ,  9589.28      , 10230.73      ,  6732.31      ,\n",
       "        9841.08      , 41472.36      ,  7613.53      ,  6054.87      ,\n",
       "        5939.9       ,  9663.2       ,  4969.98      , 47957.29      ,\n",
       "        3922.83      ,  7299.43      ,  8320.97      ,  7412.56      ,\n",
       "        7013.01      , 11592.5       , 13971.53      ,  7102.68      ,\n",
       "        8983.48      , 12324.69      ,  2318.22      , 26026.67      ,\n",
       "        6724.76      ,  2829.5       , 23042.44      , 15413.18      ,\n",
       "        8387.61      , 19334.09      ,  5478.77      , 18240.18      ,\n",
       "       12617.01      , 10867.71      , 13698.05      ,  4821.56      ,\n",
       "       10009.39      ,  3290.95      ,  3212.89      , 14859.89      ,\n",
       "       10235.66      , 11090.47      ,  7653.61      , 27781.94      ,\n",
       "        3390.        ,  9955.26      , 32205.17      , 17100.65      ,\n",
       "        6097.6       , 17185.35      , 13428.01      ,  1644.71      ,\n",
       "        3590.68      , 10737.79      ,  6924.15      ,  9961.07      ,\n",
       "       39998.68      ,  9252.01      , 40523.17      , 12619.8       ,\n",
       "       37837.4       ,  3572.727     ,  1871.69      ,  2994.77333333,\n",
       "        8172.7       ,  4399.19      ,  6778.93      , 13830.76      ,\n",
       "        9501.54      ,  3259.65      ,  1775.68      ,  7938.93      ,\n",
       "       12338.5       ,  4028.44      ,  2308.83      ,  1839.03      ,\n",
       "        5503.49      ,  6251.7       , 48140.23      ,  5145.7       ])"
      ]
     },
     "execution_count": 45,
     "metadata": {},
     "output_type": "execute_result"
    }
   ],
   "source": [
    "y_pred"
   ]
  },
  {
   "cell_type": "markdown",
   "id": "e9ad06e0",
   "metadata": {},
   "source": [
    "# Model Evaluation"
   ]
  },
  {
   "cell_type": "code",
   "execution_count": 46,
   "id": "18daef68",
   "metadata": {},
   "outputs": [],
   "source": [
    "from sklearn.metrics import mean_squared_error, mean_absolute_error,r2_score"
   ]
  },
  {
   "cell_type": "code",
   "execution_count": 47,
   "id": "ce8d9e99",
   "metadata": {},
   "outputs": [
    {
     "data": {
      "text/plain": [
       "26155432.23178127"
      ]
     },
     "execution_count": 47,
     "metadata": {},
     "output_type": "execute_result"
    }
   ],
   "source": [
    "mean_squared_error(y_test,y_pred)"
   ]
  },
  {
   "cell_type": "code",
   "execution_count": 48,
   "id": "436c3034",
   "metadata": {},
   "outputs": [
    {
     "data": {
      "text/plain": [
       "2920.52977238806"
      ]
     },
     "execution_count": 48,
     "metadata": {},
     "output_type": "execute_result"
    }
   ],
   "source": [
    "mean_absolute_error(y_test,y_pred)"
   ]
  },
  {
   "cell_type": "code",
   "execution_count": 49,
   "id": "618edc2b",
   "metadata": {},
   "outputs": [
    {
     "data": {
      "text/plain": [
       "0.829765888008799"
      ]
     },
     "execution_count": 49,
     "metadata": {},
     "output_type": "execute_result"
    }
   ],
   "source": [
    "r2_score(y_test,y_pred)"
   ]
  },
  {
   "cell_type": "markdown",
   "id": "57d624ce",
   "metadata": {},
   "source": [
    "# Visualization of Actual vs Predicted Results "
   ]
  },
  {
   "cell_type": "code",
   "execution_count": 50,
   "id": "d030ca99",
   "metadata": {},
   "outputs": [],
   "source": [
    "import matplotlib.pyplot as plt"
   ]
  },
  {
   "cell_type": "code",
   "execution_count": 51,
   "id": "acfd9d5e",
   "metadata": {},
   "outputs": [
    {
     "data": {
      "text/plain": [
       "<function matplotlib.pyplot.show(close=None, block=None)>"
      ]
     },
     "execution_count": 51,
     "metadata": {},
     "output_type": "execute_result"
    },
    {
     "data": {
      "image/png": "[encoded data removed]",
      "text/plain": [
       "<Figure size 432x288 with 1 Axes>"
      ]
     },
     "metadata": {
      "needs_background": "light"
     },
     "output_type": "display_data"
    }
   ],
   "source": [
    "plt.scatter(y_test,y_pred)\n",
    "plt.xlabel(\"Actual Prices\")\n",
    "plt.ylabel(\"Predicted Prices\")\n",
    "plt.title(\"Actual Price vs Predicted Price\")\n",
    "plt.show"
   ]
  },
  {
   "cell_type": "markdown",
   "id": "b6744d80",
   "metadata": {},
   "source": [
    "# Future Predictions"
   ]
  },
  {
   "cell_type": "code",
   "execution_count": 52,
   "id": "9d499e9a",
   "metadata": {},
   "outputs": [],
   "source": [
    "x_new=np.array([-122516069,0,1.44959597,0,0,2])"
   ]
  },
  {
   "cell_type": "code",
   "execution_count": 53,
   "id": "17008c00",
   "metadata": {},
   "outputs": [],
   "source": [
    "x_new=x_new.reshape(-1,6)"
   ]
  },
  {
   "cell_type": "code",
   "execution_count": 54,
   "id": "06bd92ed",
   "metadata": {},
   "outputs": [
    {
     "data": {
      "text/plain": [
       "(1, 6)"
      ]
     },
     "execution_count": 54,
     "metadata": {},
     "output_type": "execute_result"
    }
   ],
   "source": [
    "x_new.shape"
   ]
  },
  {
   "cell_type": "code",
   "execution_count": 55,
   "id": "cb7f270a",
   "metadata": {},
   "outputs": [],
   "source": [
    "y_pred_new=rfr.predict(x_new)"
   ]
  },
  {
   "cell_type": "code",
   "execution_count": 56,
   "id": "3c80aee2",
   "metadata": {},
   "outputs": [
    {
     "data": {
      "text/plain": [
       "array([1570.01])"
      ]
     },
     "execution_count": 56,
     "metadata": {},
     "output_type": "execute_result"
    }
   ],
   "source": [
    "y_pred_new"
   ]
  },
  {
   "cell_type": "code",
   "execution_count": null,
   "id": "ab6402be",
   "metadata": {},
   "outputs": [],
   "source": []
  }
 ],
 "metadata": {
  "kernelspec": {
   "display_name": "Python 3 (ipykernel)",
   "language": "python",
   "name": "python3"
  },
  "language_info": {
   "codemirror_mode": {
    "name": "ipython",
    "version": 3
   },
   "file_extension": ".py",
   "mimetype": "text/x-python",
   "name": "python",
   "nbconvert_exporter": "python",
   "pygments_lexer": "ipython3",
   "version": "3.9.7"
  }
 },
 "nbformat": 4,
 "nbformat_minor": 5
}
