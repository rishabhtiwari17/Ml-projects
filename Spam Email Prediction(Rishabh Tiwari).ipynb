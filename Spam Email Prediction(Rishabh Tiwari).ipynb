{
 "cells": [
  {
   "cell_type": "code",
   "execution_count": 1,
   "id": "c991d84a",
   "metadata": {},
   "outputs": [],
   "source": [
    "import pandas as pd"
   ]
  },
  {
   "cell_type": "code",
   "execution_count": 2,
   "id": "4dae2f7a",
   "metadata": {},
   "outputs": [],
   "source": [
    "import numpy as np"
   ]
  },
  {
   "cell_type": "code",
   "execution_count": 3,
   "id": "45565cd2",
   "metadata": {},
   "outputs": [],
   "source": [
    "df=pd.read_csv(r'https://raw.githubusercontent.com/YBI-Foundation/Dataset/main/Spam%20Email.csv')"
   ]
  },
  {
   "cell_type": "code",
   "execution_count": 4,
   "id": "8c241776",
   "metadata": {},
   "outputs": [
    {
     "data": {
      "text/html": [
       "<div>\n",
       "<style scoped>\n",
       "    .dataframe tbody tr th:only-of-type {\n",
       "        vertical-align: middle;\n",
       "    }\n",
       "\n",
       "    .dataframe tbody tr th {\n",
       "        vertical-align: top;\n",
       "    }\n",
       "\n",
       "    .dataframe thead th {\n",
       "        text-align: right;\n",
       "    }\n",
       "</style>\n",
       "<table border=\"1\" class=\"dataframe\">\n",
       "  <thead>\n",
       "    <tr style=\"text-align: right;\">\n",
       "      <th></th>\n",
       "      <th>ID</th>\n",
       "      <th>Mail</th>\n",
       "      <th>Text</th>\n",
       "      <th>Label</th>\n",
       "    </tr>\n",
       "  </thead>\n",
       "  <tbody>\n",
       "    <tr>\n",
       "      <th>0</th>\n",
       "      <td>1</td>\n",
       "      <td>ham</td>\n",
       "      <td>Subject: christmas tree farm pictures\\r\\n</td>\n",
       "      <td>0</td>\n",
       "    </tr>\n",
       "    <tr>\n",
       "      <th>1</th>\n",
       "      <td>2</td>\n",
       "      <td>ham</td>\n",
       "      <td>Subject: vastar resources , inc .\\r\\ngary , pr...</td>\n",
       "      <td>0</td>\n",
       "    </tr>\n",
       "    <tr>\n",
       "      <th>2</th>\n",
       "      <td>3</td>\n",
       "      <td>ham</td>\n",
       "      <td>Subject: calpine daily gas nomination\\r\\n- cal...</td>\n",
       "      <td>0</td>\n",
       "    </tr>\n",
       "    <tr>\n",
       "      <th>3</th>\n",
       "      <td>4</td>\n",
       "      <td>ham</td>\n",
       "      <td>Subject: re : issue\\r\\nfyi - see note below - ...</td>\n",
       "      <td>0</td>\n",
       "    </tr>\n",
       "    <tr>\n",
       "      <th>4</th>\n",
       "      <td>5</td>\n",
       "      <td>ham</td>\n",
       "      <td>Subject: meter 7268 nov allocation\\r\\nfyi .\\r\\...</td>\n",
       "      <td>0</td>\n",
       "    </tr>\n",
       "  </tbody>\n",
       "</table>\n",
       "</div>"
      ],
      "text/plain": [
       "   ID Mail                                               Text  Label\n",
       "0   1  ham          Subject: christmas tree farm pictures\\r\\n      0\n",
       "1   2  ham  Subject: vastar resources , inc .\\r\\ngary , pr...      0\n",
       "2   3  ham  Subject: calpine daily gas nomination\\r\\n- cal...      0\n",
       "3   4  ham  Subject: re : issue\\r\\nfyi - see note below - ...      0\n",
       "4   5  ham  Subject: meter 7268 nov allocation\\r\\nfyi .\\r\\...      0"
      ]
     },
     "execution_count": 4,
     "metadata": {},
     "output_type": "execute_result"
    }
   ],
   "source": [
    "df.head()"
   ]
  },
  {
   "cell_type": "code",
   "execution_count": 6,
   "id": "d19ac2fb",
   "metadata": {},
   "outputs": [
    {
     "name": "stdout",
     "output_type": "stream",
     "text": [
      "<class 'pandas.core.frame.DataFrame'>\n",
      "RangeIndex: 5171 entries, 0 to 5170\n",
      "Data columns (total 4 columns):\n",
      " #   Column  Non-Null Count  Dtype \n",
      "---  ------  --------------  ----- \n",
      " 0   ID      5171 non-null   int64 \n",
      " 1   Mail    5171 non-null   object\n",
      " 2   Text    5171 non-null   object\n",
      " 3   Label   5171 non-null   int64 \n",
      "dtypes: int64(2), object(2)\n",
      "memory usage: 161.7+ KB\n"
     ]
    }
   ],
   "source": [
    "df.info()"
   ]
  },
  {
   "cell_type": "code",
   "execution_count": 8,
   "id": "19864d63",
   "metadata": {},
   "outputs": [
    {
     "data": {
      "text/plain": [
       "Index(['ID', 'Mail', 'Text', 'Label'], dtype='object')"
      ]
     },
     "execution_count": 8,
     "metadata": {},
     "output_type": "execute_result"
    }
   ],
   "source": [
    "df.columns"
   ]
  },
  {
   "cell_type": "code",
   "execution_count": 9,
   "id": "05b9f35a",
   "metadata": {},
   "outputs": [
    {
     "data": {
      "text/plain": [
       "(5171, 4)"
      ]
     },
     "execution_count": 9,
     "metadata": {},
     "output_type": "execute_result"
    }
   ],
   "source": [
    "df.shape"
   ]
  },
  {
   "cell_type": "markdown",
   "id": "b3fe36b4",
   "metadata": {},
   "source": [
    "# Define X and Y\n"
   ]
  },
  {
   "cell_type": "code",
   "execution_count": 10,
   "id": "db43d304",
   "metadata": {},
   "outputs": [],
   "source": [
    "y=df['Label']"
   ]
  },
  {
   "cell_type": "code",
   "execution_count": 11,
   "id": "3a8977c3",
   "metadata": {},
   "outputs": [
    {
     "data": {
      "text/plain": [
       "(5171,)"
      ]
     },
     "execution_count": 11,
     "metadata": {},
     "output_type": "execute_result"
    }
   ],
   "source": [
    "y.shape"
   ]
  },
  {
   "cell_type": "code",
   "execution_count": 12,
   "id": "b8377572",
   "metadata": {},
   "outputs": [
    {
     "data": {
      "text/plain": [
       "0       0\n",
       "1       0\n",
       "2       0\n",
       "3       0\n",
       "4       0\n",
       "       ..\n",
       "5166    1\n",
       "5167    1\n",
       "5168    1\n",
       "5169    1\n",
       "5170    1\n",
       "Name: Label, Length: 5171, dtype: int64"
      ]
     },
     "execution_count": 12,
     "metadata": {},
     "output_type": "execute_result"
    }
   ],
   "source": [
    "y"
   ]
  },
  {
   "cell_type": "code",
   "execution_count": 13,
   "id": "7f4fc53e",
   "metadata": {},
   "outputs": [],
   "source": [
    "x=df['Text']"
   ]
  },
  {
   "cell_type": "code",
   "execution_count": 14,
   "id": "5d4fd362",
   "metadata": {},
   "outputs": [
    {
     "data": {
      "text/plain": [
       "(5171,)"
      ]
     },
     "execution_count": 14,
     "metadata": {},
     "output_type": "execute_result"
    }
   ],
   "source": [
    "x.shape"
   ]
  },
  {
   "cell_type": "code",
   "execution_count": 16,
   "id": "c80ab000",
   "metadata": {},
   "outputs": [
    {
     "data": {
      "text/plain": [
       "0               Subject: christmas tree farm pictures\\r\\n\n",
       "1       Subject: vastar resources , inc .\\r\\ngary , pr...\n",
       "2       Subject: calpine daily gas nomination\\r\\n- cal...\n",
       "3       Subject: re : issue\\r\\nfyi - see note below - ...\n",
       "4       Subject: meter 7268 nov allocation\\r\\nfyi .\\r\\...\n",
       "                              ...                        \n",
       "5166    Subject: our pro - forma invoice attached\\r\\nd...\n",
       "5167    Subject: str _ rndlen ( 2 - 4 ) } { extra _ ti...\n",
       "5168    Subject: check me out !\\r\\n61 bb\\r\\nhey derm\\r...\n",
       "5169    Subject: hot jobs\\r\\nglobal marketing specialt...\n",
       "5170    Subject: save up to 89 % on ink + no shipping ...\n",
       "Name: Text, Length: 5171, dtype: object"
      ]
     },
     "execution_count": 16,
     "metadata": {},
     "output_type": "execute_result"
    }
   ],
   "source": [
    "x"
   ]
  },
  {
   "cell_type": "markdown",
   "id": "b8f7e836",
   "metadata": {},
   "source": [
    "# Train Test Split"
   ]
  },
  {
   "cell_type": "code",
   "execution_count": 17,
   "id": "2376dacb",
   "metadata": {},
   "outputs": [],
   "source": [
    "from sklearn.model_selection import train_test_split"
   ]
  },
  {
   "cell_type": "code",
   "execution_count": 18,
   "id": "8a404274",
   "metadata": {},
   "outputs": [],
   "source": [
    "x_train,x_test,y_train,y_test=train_test_split(x,y,test_size=0.3,stratify=y,random_state=2529)"
   ]
  },
  {
   "cell_type": "code",
   "execution_count": 19,
   "id": "2b378e1e",
   "metadata": {},
   "outputs": [
    {
     "data": {
      "text/plain": [
       "((3619,), (1552,), (3619,), (1552,))"
      ]
     },
     "execution_count": 19,
     "metadata": {},
     "output_type": "execute_result"
    }
   ],
   "source": [
    "x_train.shape,x_test.shape,y_train.shape,y_test.shape"
   ]
  },
  {
   "cell_type": "markdown",
   "id": "a153f484",
   "metadata": {},
   "source": [
    "# X variable features extraction"
   ]
  },
  {
   "cell_type": "code",
   "execution_count": 27,
   "id": "650acff6",
   "metadata": {},
   "outputs": [],
   "source": [
    "from sklearn.feature_extraction.text import TfidfVectorizer"
   ]
  },
  {
   "cell_type": "code",
   "execution_count": 29,
   "id": "fdc3dfc3",
   "metadata": {},
   "outputs": [],
   "source": [
    "tfidf= TfidfVectorizer (min_df=1,stop_words='english',lowercase='True')"
   ]
  },
  {
   "cell_type": "code",
   "execution_count": 30,
   "id": "dbe922bd",
   "metadata": {},
   "outputs": [],
   "source": [
    "x_train_features=tfidf.fit_transform(x_train)"
   ]
  },
  {
   "cell_type": "code",
   "execution_count": 31,
   "id": "c8e240fe",
   "metadata": {},
   "outputs": [],
   "source": [
    "x_test_features=tfidf.transform(x_test)"
   ]
  },
  {
   "cell_type": "code",
   "execution_count": 32,
   "id": "a53d54c1",
   "metadata": {},
   "outputs": [
    {
     "data": {
      "text/plain": [
       "4367    Subject: time sensitive . . . refer to # f 781...\n",
       "3849    Subject: homeowners - get more money in your p...\n",
       "2199    Subject: calpine daily gas nomination\\r\\n>\\r\\n...\n",
       "2057    Subject: holiday invitation\\r\\nplease click on...\n",
       "3019    Subject: first deliveries - comstock oil & gas...\n",
       "                              ...                        \n",
       "579     Subject: new update for buybacks\\r\\nthere are ...\n",
       "4280    Subject: get it free - ibm thinkpad computer !...\n",
       "3909    Subject: buckhorn doberman\\r\\nhello . i did no...\n",
       "2133    Subject: galleryfurniture . com bowl\\r\\nenron ...\n",
       "4508              Subject: want a new playstation 2 ?\\r\\n\n",
       "Name: Text, Length: 3619, dtype: object"
      ]
     },
     "execution_count": 32,
     "metadata": {},
     "output_type": "execute_result"
    }
   ],
   "source": [
    "x_train"
   ]
  },
  {
   "cell_type": "code",
   "execution_count": 33,
   "id": "37ef5ac6",
   "metadata": {},
   "outputs": [
    {
     "data": {
      "text/plain": [
       "<3619x40400 sparse matrix of type '<class 'numpy.float64'>'\n",
       "\twith 237060 stored elements in Compressed Sparse Row format>"
      ]
     },
     "execution_count": 33,
     "metadata": {},
     "output_type": "execute_result"
    }
   ],
   "source": [
    "x_train_features"
   ]
  },
  {
   "cell_type": "markdown",
   "id": "6fe1d2e2",
   "metadata": {},
   "source": [
    "# Train Model"
   ]
  },
  {
   "cell_type": "code",
   "execution_count": 34,
   "id": "65aa1ae6",
   "metadata": {},
   "outputs": [],
   "source": [
    "from sklearn.ensemble import RandomForestClassifier"
   ]
  },
  {
   "cell_type": "code",
   "execution_count": 35,
   "id": "c5cac221",
   "metadata": {},
   "outputs": [],
   "source": [
    "rf=RandomForestClassifier(random_state=2529)"
   ]
  },
  {
   "cell_type": "code",
   "execution_count": 36,
   "id": "356811b5",
   "metadata": {},
   "outputs": [
    {
     "data": {
      "text/plain": [
       "RandomForestClassifier(random_state=2529)"
      ]
     },
     "execution_count": 36,
     "metadata": {},
     "output_type": "execute_result"
    }
   ],
   "source": [
    "rf.fit(x_train_features,y_train)"
   ]
  },
  {
   "cell_type": "markdown",
   "id": "407044d4",
   "metadata": {},
   "source": [
    "# Model Prediction"
   ]
  },
  {
   "cell_type": "code",
   "execution_count": 37,
   "id": "30f127ec",
   "metadata": {},
   "outputs": [],
   "source": [
    "y_pred=rf.predict(x_test_features)"
   ]
  },
  {
   "cell_type": "code",
   "execution_count": 38,
   "id": "1b3e36d7",
   "metadata": {},
   "outputs": [
    {
     "data": {
      "text/plain": [
       "(1552,)"
      ]
     },
     "execution_count": 38,
     "metadata": {},
     "output_type": "execute_result"
    }
   ],
   "source": [
    "y_pred.shape"
   ]
  },
  {
   "cell_type": "code",
   "execution_count": 39,
   "id": "abe2ba52",
   "metadata": {},
   "outputs": [
    {
     "data": {
      "text/plain": [
       "array([0, 1, 0, ..., 1, 0, 0], dtype=int64)"
      ]
     },
     "execution_count": 39,
     "metadata": {},
     "output_type": "execute_result"
    }
   ],
   "source": [
    "y_pred"
   ]
  },
  {
   "cell_type": "markdown",
   "id": "b5aead05",
   "metadata": {},
   "source": [
    "# Probabilty of each predicted class"
   ]
  },
  {
   "cell_type": "code",
   "execution_count": 40,
   "id": "2e24b40d",
   "metadata": {},
   "outputs": [
    {
     "data": {
      "text/plain": [
       "array([[0.99, 0.01],\n",
       "       [0.1 , 0.9 ],\n",
       "       [0.72, 0.28],\n",
       "       ...,\n",
       "       [0.3 , 0.7 ],\n",
       "       [0.89, 0.11],\n",
       "       [0.68, 0.32]])"
      ]
     },
     "execution_count": 40,
     "metadata": {},
     "output_type": "execute_result"
    }
   ],
   "source": [
    "rf.predict_proba(x_test_features)"
   ]
  },
  {
   "cell_type": "markdown",
   "id": "51202d69",
   "metadata": {},
   "source": [
    "# Model Evaluation"
   ]
  },
  {
   "cell_type": "code",
   "execution_count": 41,
   "id": "482c40ff",
   "metadata": {},
   "outputs": [],
   "source": [
    "from sklearn.metrics import confusion_matrix,classification_report"
   ]
  },
  {
   "cell_type": "code",
   "execution_count": 42,
   "id": "fb9c8575",
   "metadata": {},
   "outputs": [
    {
     "name": "stdout",
     "output_type": "stream",
     "text": [
      "[[1081   21]\n",
      " [  15  435]]\n"
     ]
    }
   ],
   "source": [
    "print(confusion_matrix(y_test,y_pred))"
   ]
  },
  {
   "cell_type": "code",
   "execution_count": 43,
   "id": "ab05fcd0",
   "metadata": {},
   "outputs": [
    {
     "name": "stdout",
     "output_type": "stream",
     "text": [
      "              precision    recall  f1-score   support\n",
      "\n",
      "           0       0.99      0.98      0.98      1102\n",
      "           1       0.95      0.97      0.96       450\n",
      "\n",
      "    accuracy                           0.98      1552\n",
      "   macro avg       0.97      0.97      0.97      1552\n",
      "weighted avg       0.98      0.98      0.98      1552\n",
      "\n"
     ]
    }
   ],
   "source": [
    "print(classification_report(y_test,y_pred))"
   ]
  },
  {
   "cell_type": "code",
   "execution_count": null,
   "id": "17a3d891",
   "metadata": {},
   "outputs": [],
   "source": []
  }
 ],
 "metadata": {
  "kernelspec": {
   "display_name": "Python 3 (ipykernel)",
   "language": "python",
   "name": "python3"
  },
  "language_info": {
   "codemirror_mode": {
    "name": "ipython",
    "version": 3
   },
   "file_extension": ".py",
   "mimetype": "text/x-python",
   "name": "python",
   "nbconvert_exporter": "python",
   "pygments_lexer": "ipython3",
   "version": "3.9.7"
  }
 },
 "nbformat": 4,
 "nbformat_minor": 5
}
